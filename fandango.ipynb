{
 "cells": [
  {
   "cell_type": "markdown",
   "metadata": {},
   "source": [
    "Diagrammes en barres et graphiques à nuage\n",
    "de points\n",
    "• Lire 'fandango_scores.csv' dans un dataframe reviews.\n",
    "• Sélectionner les colonnes suivantes et assigner les au dataframe\n",
    "norm_reviews:\n",
    "    'FILM'\n",
    "    'RT_user_norm'\n",
    "    'Metacritic_user_nom'\n",
    "    'IMDB_norm'\n",
    "    'Fandango_Ratingvalue'\n",
    "    'Fandango_Stars'\n",
    "• Afficher les premières lignes de norm_reviews."
   ]
  },
  {
   "cell_type": "code",
   "execution_count": 3,
   "metadata": {},
   "outputs": [
    {
     "data": {
      "text/html": [
       "<div>\n",
       "<style scoped>\n",
       "    .dataframe tbody tr th:only-of-type {\n",
       "        vertical-align: middle;\n",
       "    }\n",
       "\n",
       "    .dataframe tbody tr th {\n",
       "        vertical-align: top;\n",
       "    }\n",
       "\n",
       "    .dataframe thead th {\n",
       "        text-align: right;\n",
       "    }\n",
       "</style>\n",
       "<table border=\"1\" class=\"dataframe\">\n",
       "  <thead>\n",
       "    <tr style=\"text-align: right;\">\n",
       "      <th></th>\n",
       "      <th>RT_user_norm</th>\n",
       "      <th>Metacritic_user_nom</th>\n",
       "      <th>IMDB_norm</th>\n",
       "      <th>Fandango_Ratingvalue</th>\n",
       "      <th>Fandango_Stars</th>\n",
       "    </tr>\n",
       "    <tr>\n",
       "      <th>FILM</th>\n",
       "      <th></th>\n",
       "      <th></th>\n",
       "      <th></th>\n",
       "      <th></th>\n",
       "      <th></th>\n",
       "    </tr>\n",
       "  </thead>\n",
       "  <tbody>\n",
       "    <tr>\n",
       "      <th>Avengers: Age of Ultron (2015)</th>\n",
       "      <td>4.30</td>\n",
       "      <td>3.55</td>\n",
       "      <td>3.90</td>\n",
       "      <td>4.5</td>\n",
       "      <td>5.0</td>\n",
       "    </tr>\n",
       "    <tr>\n",
       "      <th>Cinderella (2015)</th>\n",
       "      <td>4.00</td>\n",
       "      <td>3.75</td>\n",
       "      <td>3.55</td>\n",
       "      <td>4.5</td>\n",
       "      <td>5.0</td>\n",
       "    </tr>\n",
       "    <tr>\n",
       "      <th>Ant-Man (2015)</th>\n",
       "      <td>4.50</td>\n",
       "      <td>4.05</td>\n",
       "      <td>3.90</td>\n",
       "      <td>4.5</td>\n",
       "      <td>5.0</td>\n",
       "    </tr>\n",
       "    <tr>\n",
       "      <th>Do You Believe? (2015)</th>\n",
       "      <td>4.20</td>\n",
       "      <td>2.35</td>\n",
       "      <td>2.70</td>\n",
       "      <td>4.5</td>\n",
       "      <td>5.0</td>\n",
       "    </tr>\n",
       "    <tr>\n",
       "      <th>Hot Tub Time Machine 2 (2015)</th>\n",
       "      <td>1.40</td>\n",
       "      <td>1.70</td>\n",
       "      <td>2.55</td>\n",
       "      <td>3.0</td>\n",
       "      <td>3.5</td>\n",
       "    </tr>\n",
       "    <tr>\n",
       "      <th>The Water Diviner (2015)</th>\n",
       "      <td>3.10</td>\n",
       "      <td>3.40</td>\n",
       "      <td>3.60</td>\n",
       "      <td>4.0</td>\n",
       "      <td>4.5</td>\n",
       "    </tr>\n",
       "    <tr>\n",
       "      <th>Irrational Man (2015)</th>\n",
       "      <td>2.65</td>\n",
       "      <td>3.80</td>\n",
       "      <td>3.45</td>\n",
       "      <td>3.5</td>\n",
       "      <td>4.0</td>\n",
       "    </tr>\n",
       "    <tr>\n",
       "      <th>Top Five (2014)</th>\n",
       "      <td>3.20</td>\n",
       "      <td>3.40</td>\n",
       "      <td>3.25</td>\n",
       "      <td>3.5</td>\n",
       "      <td>4.0</td>\n",
       "    </tr>\n",
       "    <tr>\n",
       "      <th>Shaun the Sheep Movie (2015)</th>\n",
       "      <td>4.10</td>\n",
       "      <td>4.40</td>\n",
       "      <td>3.70</td>\n",
       "      <td>4.0</td>\n",
       "      <td>4.5</td>\n",
       "    </tr>\n",
       "    <tr>\n",
       "      <th>Love &amp; Mercy (2015)</th>\n",
       "      <td>4.35</td>\n",
       "      <td>4.25</td>\n",
       "      <td>3.90</td>\n",
       "      <td>4.0</td>\n",
       "      <td>4.5</td>\n",
       "    </tr>\n",
       "    <tr>\n",
       "      <th>Far From The Madding Crowd (2015)</th>\n",
       "      <td>3.85</td>\n",
       "      <td>3.75</td>\n",
       "      <td>3.60</td>\n",
       "      <td>4.0</td>\n",
       "      <td>4.5</td>\n",
       "    </tr>\n",
       "    <tr>\n",
       "      <th>Black Sea (2015)</th>\n",
       "      <td>3.00</td>\n",
       "      <td>3.30</td>\n",
       "      <td>3.20</td>\n",
       "      <td>3.5</td>\n",
       "      <td>4.0</td>\n",
       "    </tr>\n",
       "  </tbody>\n",
       "</table>\n",
       "</div>"
      ],
      "text/plain": [
       "                                   RT_user_norm  Metacritic_user_nom  \\\n",
       "FILM                                                                   \n",
       "Avengers: Age of Ultron (2015)             4.30                 3.55   \n",
       "Cinderella (2015)                          4.00                 3.75   \n",
       "Ant-Man (2015)                             4.50                 4.05   \n",
       "Do You Believe? (2015)                     4.20                 2.35   \n",
       "Hot Tub Time Machine 2 (2015)              1.40                 1.70   \n",
       "The Water Diviner (2015)                   3.10                 3.40   \n",
       "Irrational Man (2015)                      2.65                 3.80   \n",
       "Top Five (2014)                            3.20                 3.40   \n",
       "Shaun the Sheep Movie (2015)               4.10                 4.40   \n",
       "Love & Mercy (2015)                        4.35                 4.25   \n",
       "Far From The Madding Crowd (2015)          3.85                 3.75   \n",
       "Black Sea (2015)                           3.00                 3.30   \n",
       "\n",
       "                                   IMDB_norm  Fandango_Ratingvalue  \\\n",
       "FILM                                                                 \n",
       "Avengers: Age of Ultron (2015)          3.90                   4.5   \n",
       "Cinderella (2015)                       3.55                   4.5   \n",
       "Ant-Man (2015)                          3.90                   4.5   \n",
       "Do You Believe? (2015)                  2.70                   4.5   \n",
       "Hot Tub Time Machine 2 (2015)           2.55                   3.0   \n",
       "The Water Diviner (2015)                3.60                   4.0   \n",
       "Irrational Man (2015)                   3.45                   3.5   \n",
       "Top Five (2014)                         3.25                   3.5   \n",
       "Shaun the Sheep Movie (2015)            3.70                   4.0   \n",
       "Love & Mercy (2015)                     3.90                   4.0   \n",
       "Far From The Madding Crowd (2015)       3.60                   4.0   \n",
       "Black Sea (2015)                        3.20                   3.5   \n",
       "\n",
       "                                   Fandango_Stars  \n",
       "FILM                                               \n",
       "Avengers: Age of Ultron (2015)                5.0  \n",
       "Cinderella (2015)                             5.0  \n",
       "Ant-Man (2015)                                5.0  \n",
       "Do You Believe? (2015)                        5.0  \n",
       "Hot Tub Time Machine 2 (2015)                 3.5  \n",
       "The Water Diviner (2015)                      4.5  \n",
       "Irrational Man (2015)                         4.0  \n",
       "Top Five (2014)                               4.0  \n",
       "Shaun the Sheep Movie (2015)                  4.5  \n",
       "Love & Mercy (2015)                           4.5  \n",
       "Far From The Madding Crowd (2015)             4.5  \n",
       "Black Sea (2015)                              4.0  "
      ]
     },
     "execution_count": 3,
     "metadata": {},
     "output_type": "execute_result"
    }
   ],
   "source": [
    "import pandas as pd\n",
    "reviews=pd.read_csv('fandango_score_comparison.csv', index_col=0)\n",
    "norm_reviews=reviews[['RT_user_norm','Metacritic_user_nom', 'IMDB_norm','Fandango_Ratingvalue','Fandango_Stars']]\n",
    "norm_reviews.head(12)"
   ]
  },
  {
   "cell_type": "markdown",
   "metadata": {},
   "source": [
    "Diagrammes en barre\n",
    "• Créer un sous-graphique avec plt.subplot() et assigner l'objet Figure à\n",
    "la variable fig et l'objet Axes à la variable ax.\n",
    "• Générer un diagramme en barre avec:\n",
    "    • Les coordonnées x de toutes les barres définie par bar_positions qui doit\n",
    "    prendre les valeurs 1,2,3,4 et 5\n",
    "    • La hauteur de chaque barres définie par bar_heights qui doit prendre les 5\n",
    "    colonnes qui nous intéressent pour le film ‘Avengers: Age of Ultron (2015)’.\n",
    "    • Avec l’argument width vous pouvez gérer l’épaisseur des barres. Fixé-là à 0.5\n",
    "• Afficher le diagramme en barre."
   ]
  },
  {
   "cell_type": "code",
   "execution_count": 4,
   "metadata": {},
   "outputs": [
    {
     "data": {
      "image/png": "[encoded data removed]",
      "text/plain": [
       "<Figure size 432x288 with 1 Axes>"
      ]
     },
     "metadata": {
      "needs_background": "light"
     },
     "output_type": "display_data"
    }
   ],
   "source": [
    "import matplotlib.pyplot as plt\n",
    "from numpy import arange\n",
    "fig, ax = plt.subplots()\n",
    "bar_heights=norm_reviews.loc['Avengers: Age of Ultron (2015)'].values\n",
    "bar_positions=arange(5)+1\n",
    "ax.bar(bar_positions,bar_heights, width=0.5)\n",
    "plt.show()"
   ]
  },
  {
   "cell_type": "markdown",
   "metadata": {},
   "source": [
    "Aligner l'intitulé et le trait sur l'axe x\n",
    "• Créer un sous-graphique et assigner l'objet Figure à la variable fig et l'objet Axes à la\n",
    "variable ax.\n",
    "• Générer un diagramme en barre avec:\n",
    "    • Les coordonnées x de toutes les barres définie par bar_positions qui doit prendre les valeurs\n",
    "    1,2,3,4 et 5\n",
    "    • La hauteur de chaque barres définie par bar_heights qui doit prendre les 5 colonnes qui nous\n",
    "    intéressent pour le film ‘Avengers: Age of Ultron (2015)’\n",
    "    • Avec l’argument width vous pouvez gérer l’épaisseur des barres. Fixé-là à 0.5\n",
    "• Placer les 5 traits correspondant aux barres.\n",
    "• Placer les intitulés de num_cols et faire une rotation de 90 degrés.\n",
    "• Nommer l'axe x par 'Sources de notation'.\n",
    "• Nommer l'axe y par 'Note moyenne'.\n",
    "• Définir le titre par 'Moyenne des notes utilisateurs pour le film Avengers: Age of Ultron\n",
    "(2015)'.\n",
    "• Afficher le diagramme."
   ]
  },
  {
   "cell_type": "code",
   "execution_count": 143,
   "metadata": {},
   "outputs": [
    {
     "data": {
      "image/png": "[encoded data removed]",
      "text/plain": [
       "<Figure size 432x288 with 1 Axes>"
      ]
     },
     "metadata": {
      "needs_background": "light"
     },
     "output_type": "display_data"
    }
   ],
   "source": [
    "fig, ax = plt.subplots()\n",
    "bar_heights=norm_reviews.loc['Avengers: Age of Ultron (2015)'].values\n",
    "num_cols=['RT_user_norm','Metacritic_user_nom', 'IMDB_norm','Fandango_Ratingvalue','Fandango_Stars']\n",
    "ax.bar(bar_positions,bar_heights, width=0.5)\n",
    "ax.set_xticks(range(0,5))\n",
    "ax.set_xticklabels(num_cols,rotation=90)\n",
    "plt.xlabel(\"Sources de notation\")\n",
    "plt.ylabel(\"Note moyenne\")\n",
    "plt.title(\"Moyenne des notes utilisateurs pour le film Avengers: Age of Ultron (2015)'\")\n",
    "plt.show()"
   ]
  },
  {
   "cell_type": "markdown",
   "metadata": {},
   "source": [
    "Diagramme en barres horizontales\n",
    "• Créer un sous-graphique et assigner l'objet Figure à la variable fig et l'objet Axes à la\n",
    "variable ax.\n",
    "• Générer un diagramme en barres avec:\n",
    "    • bottom pour les positions bar_positions\n",
    "    • width pour la largeur des barres bar_widths\n",
    "    • height fixé à 0.5\n",
    "• Placer les 5 traits correspondants aux barres sur l'axe y.\n",
    "• Placer les intitulés de num_cols.\n",
    "• Définir l'axe y par 'Sources de notes'.\n",
    "• Définir l'axe x par 'Note moyenne'.\n",
    "• Définir le titre par 'Note moyenne utilisateurs pour le film Avengers: Age of Ultron\n",
    "(2015)'.\n",
    "• Afficher le diagramme en barre."
   ]
  },
  {
   "cell_type": "code",
   "execution_count": 138,
   "metadata": {},
   "outputs": [
    {
     "data": {
      "image/png": "[encoded data removed]",
      "text/plain": [
       "<Figure size 432x288 with 1 Axes>"
      ]
     },
     "metadata": {
      "needs_background": "light"
     },
     "output_type": "display_data"
    }
   ],
   "source": [
    "fig, ax= plt.subplots()\n",
    "ax.barh(num_cols,bar_heights, 0.5)\n",
    "plt.ylabel(\"Sources de notation\")\n",
    "plt.xlabel(\"Note moyenne\")\n",
    "plt.title(\"Moyenne des notes utilisateurs pour le film Avengers: Age of Ultron (2015)'\")\n",
    "plt.show()"
   ]
  },
  {
   "cell_type": "markdown",
   "metadata": {},
   "source": [
    "Graphique à nuage de points\n",
    "• Créer un sous-graphique et assigner l'objet Figure à la variable fig et\n",
    "l'objet Axes à la variable ax.\n",
    "• Générer un graphique à nuage de points avec la colonne\n",
    "'Fandango_Ratingvalue' sur l'axe x et et la colonne 'RT_user_norm'\n",
    "pour l'axe y.\n",
    "• Définir pour l'axe x 'Fandango' et 'Rotten Tomatoes' pour l'axe y.\n",
    "• Afficher le graphique résultant."
   ]
  },
  {
   "cell_type": "code",
   "execution_count": 42,
   "metadata": {},
   "outputs": [
    {
     "data": {
      "image/png": "[encoded data removed]",
      "text/plain": [
       "<Figure size 432x288 with 1 Axes>"
      ]
     },
     "metadata": {
      "needs_background": "light"
     },
     "output_type": "display_data"
    }
   ],
   "source": [
    "fig, ax=plt.subplots()\n",
    "ax.plot(norm_reviews['Fandango_Ratingvalue'], norm_reviews['RT_user_norm'], marker='o', linestyle='')\n",
    "ax.set_xlabel('Fandango')\n",
    "ax.set_ylabel('Rotten Tomatoes')\n",
    "plt.show()"
   ]
  },
  {
   "cell_type": "markdown",
   "metadata": {},
   "source": [
    "Intervertir les axes\n",
    "• Assigner à la variable fig la figure retourné par plt.figure()\n",
    "• Nous allons ici un graphiques avec deux sous-graphiques à l’aide de la méthode\n",
    "add_subplot() répartie sur une ligne et deux colonnes:\n",
    "    • Avec fig.add_subplot(...,...,...) assigné à ax1 l’axe de la 1 ère figure.\n",
    "    • Avec fig.add_subplot(...,...,...) assigné à ax1 l’axe de la 2 ème figure.\n",
    "• Pour le sous-graphique associé à la variable ax1.\n",
    "    • Générer un graphique à nuage de points avec la colonne 'Fandango_Ratingvalue' sur l'axe x\n",
    "    et la colonne 'RT_user_norm' sur l'axe y\n",
    "    • Définir pour l'axe x 'Fandango' et pour l'axe y 'Rotten Tomatoes'\n",
    "• Pour le sous-graphique associé à la variable ax2.\n",
    "    • Générer un graphique à nuage de points avec la colonne 'RT_user_norm' sur l'axe x et la\n",
    "    colonne 'Fandango_Ratingvalue' sur l'axe y\n",
    "    • Définir pour l'axe x 'Rotten Tomatoes' et pour l'axe y 'fandango'\n",
    "• Afficher le graphique résultant."
   ]
  },
  {
   "cell_type": "code",
   "execution_count": 12,
   "metadata": {},
   "outputs": [
    {
     "data": {
      "image/png": "[encoded data removed]",
      "text/plain": [
       "<Figure size 1080x360 with 2 Axes>"
      ]
     },
     "metadata": {
      "needs_background": "light"
     },
     "output_type": "display_data"
    }
   ],
   "source": [
    "fig=plt.figure(figsize=(15,5))\n",
    "ax1 = fig.add_subplot(1,2,1)\n",
    "ax1.plot(norm_reviews['Fandango_Ratingvalue'], norm_reviews['RT_user_norm'], marker='o', linestyle='')\n",
    "ax1.set_xlabel('Fandango')\n",
    "ax1.set_ylabel('Rotten Tomatoes')\n",
    "\n",
    "\n",
    "ax2 = fig.add_subplot(1,2,2)\n",
    "ax2.plot(norm_reviews['RT_user_norm'], norm_reviews['Fandango_Ratingvalue'], marker='o', linestyle='')\n",
    "ax2.set_ylabel('Fandango')\n",
    "ax2.set_xlabel('Rotten Tomatoes')\n",
    "\n",
    "plt.show()"
   ]
  },
  {
   "cell_type": "markdown",
   "metadata": {},
   "source": [
    "Comparaison de corrélations\n",
    "Tracer un graphiques avec 3 sous-graphiques:\n",
    "• Pour le sous-graphique associé à la variable ax1:\n",
    "    • Générer un graphique à nuage de points avec la colonne 'Fandango_Ratingvalue' sur l'axe x et la\n",
    "    colonne 'RT_user_norm' sur l'axe y\n",
    "    • Définir pour l'axe x 'Fandango' et pour l'axe y 'Rotten Tomatoes'\n",
    "    • Définir les limites des axes x et y en les fixant de 0 à 5 avec .set_xlim(..,..) et set_ylim(..,..)\n",
    "• Pour le sous-graphique associé à la variable ax2:\n",
    "    • Générer un graphique à nuage de points avec la colonne 'Fandango_Ratingvalue' sur l'axe x et la\n",
    "    colonne 'Metacritic_user_nom' sur l'axe y\n",
    "    • Définir pour l'axe x 'Fandango' et pour l'axe y 'Metacritic'\n",
    "    • Définir les limites des axes x et y en les fixant de 0 à 5\n",
    "• Pour le sous-graphique associé à la variable ax3:\n",
    "    • Générer un graphique à nuage de points avec la colonne 'Fandango_Ratingvalue' sur l'axe x et la\n",
    "    colonne 'IMDB_norm' sur l'axe y\n",
    "    • Définir pour l'axe x 'Fandango' et pour l'axe y 'IMDB'\n",
    "    • Définir les limites des axes x et y en les fixant de 0 à 5\n",
    "• Afficher le graphique."
   ]
  },
  {
   "cell_type": "code",
   "execution_count": 11,
   "metadata": {},
   "outputs": [
    {
     "data": {
      "image/png": "[encoded data removed]",
      "text/plain": [
       "<Figure size 1080x360 with 3 Axes>"
      ]
     },
     "metadata": {
      "needs_background": "light"
     },
     "output_type": "display_data"
    }
   ],
   "source": [
    "fig=plt.figure(figsize=(15,5))\n",
    "ax1=fig.add_subplot(1,3,1)\n",
    "ax1.plot(norm_reviews['Fandango_Ratingvalue'], norm_reviews['RT_user_norm'], marker='o', linestyle='')\n",
    "ax1.set_xlabel('Fandango')\n",
    "ax1.set_ylabel('Rotten Tomatoes')\n",
    "ax1.set_xlim(0,5)\n",
    "ax1.set_ylim(0,5)\n",
    "\n",
    "ax2=fig.add_subplot(1,3,2)\n",
    "ax2.plot(norm_reviews['Fandango_Ratingvalue'], norm_reviews['Metacritic_user_nom'], marker='o', linestyle='')\n",
    "ax2.set_xlabel('Fandango')\n",
    "ax2.set_ylabel('Metacritic')\n",
    "ax2.set_xlim(0,5)\n",
    "ax2.set_ylim(0,5)\n",
    "\n",
    "ax3=fig.add_subplot(1,3,3)\n",
    "ax3.plot(norm_reviews['Fandango_Ratingvalue'], norm_reviews['IMDB_norm'], marker='o', linestyle='')\n",
    "ax3.set_xlabel('Fandango')\n",
    "ax3.set_ylabel('IMDB')\n",
    "ax3.set_xlim(0,5)\n",
    "ax3.set_ylim(0,5)\n",
    "plt.show()"
   ]
  },
  {
   "cell_type": "code",
   "execution_count": 14,
   "metadata": {},
   "outputs": [
    {
     "data": {
      "text/html": [
       "<div>\n",
       "<style scoped>\n",
       "    .dataframe tbody tr th:only-of-type {\n",
       "        vertical-align: middle;\n",
       "    }\n",
       "\n",
       "    .dataframe tbody tr th {\n",
       "        vertical-align: top;\n",
       "    }\n",
       "\n",
       "    .dataframe thead th {\n",
       "        text-align: right;\n",
       "    }\n",
       "</style>\n",
       "<table border=\"1\" class=\"dataframe\">\n",
       "  <thead>\n",
       "    <tr style=\"text-align: right;\">\n",
       "      <th></th>\n",
       "      <th>RT_user_norm</th>\n",
       "      <th>Metacritic_user_nom</th>\n",
       "      <th>IMDB_norm</th>\n",
       "      <th>Fandango_Ratingvalue</th>\n",
       "      <th>Fandango_Stars</th>\n",
       "    </tr>\n",
       "  </thead>\n",
       "  <tbody>\n",
       "    <tr>\n",
       "      <th>RT_user_norm</th>\n",
       "      <td>1.000000</td>\n",
       "      <td>0.687132</td>\n",
       "      <td>0.895297</td>\n",
       "      <td>0.724329</td>\n",
       "      <td>0.703683</td>\n",
       "    </tr>\n",
       "    <tr>\n",
       "      <th>Metacritic_user_nom</th>\n",
       "      <td>0.687132</td>\n",
       "      <td>1.000000</td>\n",
       "      <td>0.756265</td>\n",
       "      <td>0.336945</td>\n",
       "      <td>0.337497</td>\n",
       "    </tr>\n",
       "    <tr>\n",
       "      <th>IMDB_norm</th>\n",
       "      <td>0.895297</td>\n",
       "      <td>0.756265</td>\n",
       "      <td>1.000000</td>\n",
       "      <td>0.600354</td>\n",
       "      <td>0.587295</td>\n",
       "    </tr>\n",
       "    <tr>\n",
       "      <th>Fandango_Ratingvalue</th>\n",
       "      <td>0.724329</td>\n",
       "      <td>0.336945</td>\n",
       "      <td>0.600354</td>\n",
       "      <td>1.000000</td>\n",
       "      <td>0.959709</td>\n",
       "    </tr>\n",
       "    <tr>\n",
       "      <th>Fandango_Stars</th>\n",
       "      <td>0.703683</td>\n",
       "      <td>0.337497</td>\n",
       "      <td>0.587295</td>\n",
       "      <td>0.959709</td>\n",
       "      <td>1.000000</td>\n",
       "    </tr>\n",
       "  </tbody>\n",
       "</table>\n",
       "</div>"
      ],
      "text/plain": [
       "                      RT_user_norm  Metacritic_user_nom  IMDB_norm  \\\n",
       "RT_user_norm              1.000000             0.687132   0.895297   \n",
       "Metacritic_user_nom       0.687132             1.000000   0.756265   \n",
       "IMDB_norm                 0.895297             0.756265   1.000000   \n",
       "Fandango_Ratingvalue      0.724329             0.336945   0.600354   \n",
       "Fandango_Stars            0.703683             0.337497   0.587295   \n",
       "\n",
       "                      Fandango_Ratingvalue  Fandango_Stars  \n",
       "RT_user_norm                      0.724329        0.703683  \n",
       "Metacritic_user_nom               0.336945        0.337497  \n",
       "IMDB_norm                         0.600354        0.587295  \n",
       "Fandango_Ratingvalue              1.000000        0.959709  \n",
       "Fandango_Stars                    0.959709        1.000000  "
      ]
     },
     "execution_count": 14,
     "metadata": {},
     "output_type": "execute_result"
    }
   ],
   "source": [
    "norm_reviews.corr()"
   ]
  },
  {
   "cell_type": "markdown",
   "metadata": {},
   "source": [
    "Distribution de fréquences\n",
    "• Utiliser la méthode value_counts() pour retourner le décompte des\n",
    "fréquences de la colonne 'IMDB_norm'. Trier l'objet Series résultant\n",
    "par son index et assigner le résultat à la variable imdb_distribution.\n",
    "• Afficher le résultat.\n",
    "• Créer un sous-graphique et assigner les objets Figure à la variable fig\n",
    "et Axes à la variable ax.\n",
    "• Générer un histogramme des valeurs de la colonne\n",
    "'Fandango_Ratingvalue' en utilisant un range de 0 à 5.\n",
    "• Utiliser plt.show() pour afficher le graphique."
   ]
  },
  {
   "cell_type": "code",
   "execution_count": 17,
   "metadata": {},
   "outputs": [
    {
     "data": {
      "image/png": "[encoded data removed]",
      "text/plain": [
       "<Figure size 432x288 with 1 Axes>"
      ]
     },
     "metadata": {
      "needs_background": "light"
     },
     "output_type": "display_data"
    },
    {
     "data": {
      "text/plain": [
       "2.00     1\n",
       "2.10     1\n",
       "2.15     1\n",
       "2.20     1\n",
       "2.30     2\n",
       "2.45     2\n",
       "2.50     1\n",
       "2.55     1\n",
       "2.60     2\n",
       "2.70     4\n",
       "2.75     5\n",
       "2.80     2\n",
       "2.85     1\n",
       "2.90     1\n",
       "2.95     3\n",
       "3.00     2\n",
       "3.05     4\n",
       "3.10     1\n",
       "3.15     9\n",
       "3.20     6\n",
       "3.25     4\n",
       "3.30     9\n",
       "3.35     7\n",
       "3.40     1\n",
       "3.45     7\n",
       "3.50     4\n",
       "3.55     7\n",
       "3.60    10\n",
       "3.65     5\n",
       "3.70     8\n",
       "3.75     6\n",
       "3.80     3\n",
       "3.85     4\n",
       "3.90     9\n",
       "3.95     2\n",
       "4.00     1\n",
       "4.05     1\n",
       "4.10     4\n",
       "4.15     1\n",
       "4.20     2\n",
       "4.30     1\n",
       "Name: IMDB_norm, dtype: int64"
      ]
     },
     "execution_count": 17,
     "metadata": {},
     "output_type": "execute_result"
    }
   ],
   "source": [
    "imdb_distribution=norm_reviews['IMDB_norm'].value_counts().sort_index()\n",
    "fig, ax=plt.subplots()\n",
    "ax.hist(norm_reviews['Fandango_Ratingvalue'], range=(0,5))\n",
    "plt.show()\n",
    "imdb_distribution"
   ]
  },
  {
   "cell_type": "markdown",
   "metadata": {},
   "source": [
    "Comparaison d'histogrammes\n",
    "Tracer un graphique avec 4 sous-graphiques:\n",
    "• Pour le sous-graphique associé à la variable ax1:\n",
    "    • Générer un histogramme des valeurs de la colonne 'Fandango_Ratingvalue' en utilisant 20 classes (argument\n",
    "bins=20) et un intervalle de 0 à 5 (argument range=(0,5)).\n",
    "• Pour le sous-graphique associé à la variable ax2:\n",
    "    • Générer un histogramme des valeurs de la colonne 'RT_user_norm' en utilisant 20 classes (bins) et un\n",
    "intervalle de 0 à 5\n",
    "• Pour le sous-graphique associé à la variable ax3:\n",
    "    • Générer un histogramme des valeurs de la colonne 'Metacritic_user_nom' en utilisant 20 classes (bins) et un\n",
    "intervalle de 0 à 5\n",
    "• Pour le sous-graphique associé à la variable ax4:\n",
    "    • Générer un histogramme des valeurs de la colonne 'IMDB_norm' en utilisant 20 classes (bins) et un intervalle\n",
    "de 0 à 5\n",
    "• Pour tous les graphiques définir l'intervalle sur l'axe y de 0 à 50 en utilisant Axes.set_ylim() et\n",
    "choisir un titre.\n",
    "• Afficher les histogrammes."
   ]
  },
  {
   "cell_type": "code",
   "execution_count": 21,
   "metadata": {},
   "outputs": [
    {
     "data": {
      "image/png": "[encoded data removed]",
      "text/plain": [
       "<Figure size 1440x360 with 4 Axes>"
      ]
     },
     "metadata": {
      "needs_background": "light"
     },
     "output_type": "display_data"
    }
   ],
   "source": [
    "fig=plt.figure(figsize=(20,5))\n",
    "ax1=fig.add_subplot(1,4,1)\n",
    "ax1.hist(norm_reviews['Fandango_Ratingvalue'], bins=20, range = (0, 5))\n",
    "ax1.set_ylim(0,50)\n",
    "ax1.set_title('Fandango_Ratingvalue')\n",
    "\n",
    "ax2=fig.add_subplot(1,4,2)\n",
    "ax2.hist(norm_reviews['RT_user_norm'], bins=20, range = (0, 5))\n",
    "ax2.set_ylim(0,50)\n",
    "ax2.set_title('Rotattten Tomatoes')\n",
    "\n",
    "ax3=fig.add_subplot(1,4,3)\n",
    "ax3.hist(norm_reviews['Metacritic_user_nom'], bins=20, range = (0, 5))\n",
    "ax3.set_ylim(0,50)\n",
    "ax3.set_title('Metacritic')\n",
    "\n",
    "ax4=fig.add_subplot(1,4,4)\n",
    "ax4.hist(norm_reviews['IMDB_norm'], bins=20, range = (0, 5))\n",
    "ax4.set_ylim(0,50)\n",
    "ax4.set_title('IMDB')\n",
    "\n",
    "fig.subplots_adjust(wspace=None, hspace=0.5)\n",
    "\n",
    "plt.show()"
   ]
  },
  {
   "cell_type": "code",
   "execution_count": 122,
   "metadata": {},
   "outputs": [
    {
     "name": "stdout",
     "output_type": "stream",
     "text": [
      "21\n"
     ]
    },
    {
     "data": {
      "image/png": "[encoded data removed]",
      "text/plain": [
       "<Figure size 1440x360 with 1 Axes>"
      ]
     },
     "metadata": {
      "needs_background": "light"
     },
     "output_type": "display_data"
    }
   ],
   "source": [
    "fig = plt.figure(figsize=(20,5))\n",
    "ax1 = fig.add_subplot(1, 4, 1)\n",
    "ax1.hist(norm_reviews['Fandango_Ratingvalue'], bins=20, range=(0, 5))\n",
    "ax1.set_ylim(0, 50)\n",
    "ax1.set_title('Fandango')\n",
    "\n",
    "print(len(norm_reviews['Fandango_Ratingvalue'].value_counts().sort_index(inplace=False)))\n",
    "plt.show()"
   ]
  },
  {
   "cell_type": "markdown",
   "metadata": {},
   "source": [
    "Plusieurs diagrammes à boîtes\n",
    "• Créer un sous-graphique et assigner les objets Figure à la variable fig\n",
    "et Axes à la variable ax.\n",
    "• Générer un diagramme à boîtes pour chaque colonne de num_cols =\n",
    "['RT_user_norm', 'Metacritic_user_nom', 'IMDB_norm',\n",
    "'Fandango_Ratingvalue'].\n",
    "• Définir pour chaque diagramme un intitulé correspondant au nom de\n",
    "la colonne num_cols et faire une rotation à 90 degrés de cet intitulé.\n",
    "• Définir l'intervalle de l'axe y de 0 à 5.\n",
    "• Afficher le graphique."
   ]
  },
  {
   "cell_type": "code",
   "execution_count": null,
   "metadata": {},
   "outputs": [],
   "source": []
  },
  {
   "cell_type": "code",
   "execution_count": 105,
   "metadata": {},
   "outputs": [
    {
     "data": {
      "image/png": "[encoded data removed]",
      "text/plain": [
       "<Figure size 1080x360 with 4 Axes>"
      ]
     },
     "metadata": {
      "needs_background": "light"
     },
     "output_type": "display_data"
    }
   ],
   "source": [
    "fig=plt.figure(figsize=(15,5))\n",
    "ax1=fig.add_subplot(1,4,1)\n",
    "ax1.boxplot(norm_reviews['RT_user_norm'], widths = 1)\n",
    "ax1.set_title('Rotattten Tomatoes', rotation =90)\n",
    "ax1.set_xticks(range(0,5))\n",
    "\n",
    "ax2=fig.add_subplot(1,4,2)\n",
    "ax2.boxplot(norm_reviews['Metacritic_user_nom'], widths = 1)\n",
    "ax2.set_title('Metacritic', rotation =90)\n",
    "ax2.set_xticks(range(0,5))\n",
    "\n",
    "ax3=fig.add_subplot(1,4,3)\n",
    "ax3.boxplot(norm_reviews['IMDB_norm'], widths = 1)\n",
    "ax3.set_title('IMDB', rotation =90)\n",
    "ax3.set_xticks(range(0,5))\n",
    "\n",
    "ax4=fig.add_subplot(1,4,4)\n",
    "ax4.boxplot(norm_reviews['Fandango_Ratingvalue'], widths = 1)\n",
    "ax4.set_title('Fandango', rotation =90)\n",
    "ax4.set_xticks(range(0,5))\n",
    "plt.show()"
   ]
  },
  {
   "cell_type": "code",
   "execution_count": 22,
   "metadata": {},
   "outputs": [
    {
     "data": {
      "image/png": "[encoded data removed]",
      "text/plain": [
       "<Figure size 432x288 with 1 Axes>"
      ]
     },
     "metadata": {
      "needs_background": "light"
     },
     "output_type": "display_data"
    }
   ],
   "source": [
    "num_cols = ['RT_user_norm', 'Metacritic_user_nom', 'IMDB_norm', 'Fandango_Ratingvalue']\n",
    "fig, ax=plt.subplots()\n",
    "plt.boxplot(norm_reviews[num_cols])\n",
    "ax.set_xticklabels(num_cols,rotation =90)\n",
    "plt.show()"
   ]
  },
  {
   "cell_type": "code",
   "execution_count": null,
   "metadata": {},
   "outputs": [],
   "source": []
  }
 ],
 "metadata": {
  "kernelspec": {
   "display_name": "Python 3",
   "language": "python",
   "name": "python3"
  },
  "language_info": {
   "codemirror_mode": {
    "name": "ipython",
    "version": 3
   },
   "file_extension": ".py",
   "mimetype": "text/x-python",
   "name": "python",
   "nbconvert_exporter": "python",
   "pygments_lexer": "ipython3",
   "version": "3.8.5"
  }
 },
 "nbformat": 4,
 "nbformat_minor": 4
}
