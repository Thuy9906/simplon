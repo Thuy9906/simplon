{
 "cells": [
  {
   "cell_type": "markdown",
   "metadata": {},
   "source": [
    "1. Proposer une fonction almost(mot, s) qui trouve dans un texte s toute les\n",
    "occurrence d’un mot dont une lettre a pu éventuellement être enlevée.\n",
    "Exemple : si mot vaut « alphonse », une réponse acceptable vaut est\n",
    "« alponse ».\n",
    "2. Proposez une fonction pluslarge(mot, s) qui trouve dans un texte s toutes les\n",
    "occurrences d’un mot dont une lettre a pu éventuellement être enlevée, ajouté\n",
    "ou remplacé par une autre."
   ]
  },
  {
   "cell_type": "code",
   "execution_count": 35,
   "metadata": {},
   "outputs": [
    {
     "data": {
      "text/plain": [
       "['trois', 'tris']"
      ]
     },
     "execution_count": 35,
     "metadata": {},
     "output_type": "execute_result"
    }
   ],
   "source": [
    "#s= \"Les etrois tris, lys trois gros, les troisx roi.\"\n",
    "import re\n",
    "def almost(mot, s):\n",
    "    mots_trouves=[]\n",
    "    list_mots=re.split('\\W+',s)\n",
    "    mot_acceptable=''\n",
    "    if mot in list_mots:\n",
    "        mots_trouves.append(mot)\n",
    "    for i in range(1,len(mot)):\n",
    "        mot_acceptable=mot[:i-1]+mot[i:]\n",
    "        if mot_acceptable in list_mots:\n",
    "            mots_trouves.append(mot_acceptable)\n",
    "    return mots_trouves\n",
    "almost(\"trois\",'Les etrois tris, lys trois gros, les troisx roi.')"
   ]
  },
  {
   "cell_type": "code",
   "execution_count": 11,
   "metadata": {},
   "outputs": [
    {
     "name": "stdout",
     "output_type": "stream",
     "text": [
      "0 lettre ajoutee [' etrois ']\n",
      "2 lettre manquante [' tris ']\n",
      "3 lettre manquante [' troes ']\n",
      "4 lettre ajoutee [' troixs ']\n"
     ]
    },
    {
     "data": {
      "text/plain": [
       "[' troisx ', ' etrois ', ' tris ', ' troes ', ' troixs ']"
      ]
     },
     "execution_count": 11,
     "metadata": {},
     "output_type": "execute_result"
    }
   ],
   "source": [
    "from re import sub\n",
    "from re import findall\n",
    "def pluslarge(mot, s):\n",
    "    mots_trouves=[]\n",
    "    s=sub(',.', ' ', s)\n",
    "    mot_avec_lettre_enlevee=''\n",
    "    mot_avec_lettre_ajoutee=''    \n",
    "    \n",
    "    regex_lettre_ajoutee_fin=\"\\s\" + mot + \"[^\\s]\\s\" \n",
    "    \n",
    "    mots_trouves+=findall(regex_lettre_ajoutee_fin, s)\n",
    "    mots_trouves+=findall(\"\\s(\" + mot + \")\\s\",\" \"+s)\n",
    "        \n",
    "    for i in range(len(mot)):\n",
    "        regex_lettre_enlevee_ou_remplacee = \"\\s\"+ mot[:i] + \"[^\"+ mot[i] + \"]?\"+ mot[i+1:] + \"\\s\"\n",
    "        regex_lettre_ajoutee = \"\\s\"+ mot[:i] + \"[^\\s]\"+ mot[i:] +\"\\s\"\n",
    "        \n",
    "        #regex_lettre_ajoutee=mot[:i]+\"[^\"+ mot[i]+\"]?\"+mot[i+1:]\n",
    "        mot_avec_lettre_ajoutee=findall(regex_lettre_ajoutee, \" \"+s)\n",
    "        mot_avec_lettre_enlevee=findall(regex_lettre_enlevee_ou_remplacee, \" \"+s)\n",
    "        \n",
    "        if len(mot_avec_lettre_enlevee)>0:\n",
    "            print(i,'lettre manquante', mot_avec_lettre_enlevee)\n",
    "            if s.find(mot_avec_lettre_enlevee[0])>-1:\n",
    "                mots_trouves.append(mot_avec_lettre_enlevee[0])\n",
    "                \n",
    "        if len(mot_avec_lettre_ajoutee)>0:\n",
    "            print(i,'lettre ajoutee', mot_avec_lettre_ajoutee)\n",
    "            if s.find(mot_avec_lettre_ajoutee[0])>-1:\n",
    "                mots_trouves.append(mot_avec_lettre_ajoutee[0])  \n",
    "        \n",
    "    return mots_trouves            \n",
    "\n",
    "pluslarge(\"trois\",'Les etrois tris, lys troes gros, troixs les troisx roi.')"
   ]
  },
  {
   "cell_type": "code",
   "execution_count": null,
   "metadata": {},
   "outputs": [],
   "source": [
    "#Yanice\n",
    "def pluslarge(mot, s):\n",
    "    words = []\n",
    "    for i in range(len(mot)):\n",
    "        word = \"\"\n",
    "        for j in range(len(mot)):\n",
    "            word += mot[j] if j != i else mot[j]+\"?.{0,1}\"\n",
    "        words.append(word)\n",
    "    searchRegex = re.compile(r'\\b('+ r\"|\".join(words) + r'|\\w' + mot + r')\\b', flags=re.IGNORECASE)\n",
    "    return searchRegex.findall(s)"
   ]
  },
  {
   "cell_type": "code",
   "execution_count": 13,
   "metadata": {},
   "outputs": [
    {
     "name": "stdout",
     "output_type": "stream",
     "text": [
      "[' trois ', ' troisx ', ' tris ']\n",
      "[' les ', ' Les ', ' lys ']\n"
     ]
    }
   ],
   "source": [
    "# 2.\n",
    "\n",
    "def pluslarge(mot, s):\n",
    "    z = \" \"+sub(\"[,.]\", \"\", s)+ \" \"\n",
    "    found = findall(\"\\s\"+mot+\"[^\\s]?\\s\", z)\n",
    "    for i in range(len(mot)):\n",
    "        # Je cherche le mot avec une lettre remplacé\n",
    "        motif = \"\\s\"+mot[:i]+\"[^\"+mot[i]+\"]?\"\n",
    "        motif += mot[i+1:]+\"\\s\"\n",
    "        found += findall(motif, \" \"+z)\n",
    "        # Je cherche le mot avec une lettre en plus\n",
    "        motif += \"\\s\"+mot[:i]+\"[^\\s]\"+mot[i:]+\"\\s\"\n",
    "        found += findall(motif, \" \"+z)\n",
    "    return found\n",
    "\n",
    "print(pluslarge(\"trois\", 'Les etrois tris, lys trois gros, les troisx roi.'))\n",
    "print(pluslarge(\"les\", 'Les etrois tris, lys trois gros, les troisx roi.'))"
   ]
  },
  {
   "cell_type": "markdown",
   "metadata": {},
   "source": [
    "3. Proposez une fonction score(p, s) qui prend en argument une phrase p et lui\n",
    "attribue un score en fonction de la présence des mots qu’elle contient dans s :\n",
    "cinq points par mot exact, un point par mot approché.\n",
    "4. Modifiez les fonctions précédentes de façons à ce qu’elles donnent un bonus\n",
    "de 20 points si deux mots successifs dans la phrase initial sont également\n",
    "successif dans le texte parcouru (les mots exacts).\n",
    "Exemple : Si on cherche « Le petit bonhomme en mouse » dans « Ce superbe\n",
    "matelas en mousse naturelle »."
   ]
  },
  {
   "cell_type": "code",
   "execution_count": null,
   "metadata": {},
   "outputs": [],
   "source": [
    "def score(p, s):\n",
    "    score=0\n",
    "    s=\" \" + sub(',.?:!', ' ', s) + \" \"\n",
    "    p_liste = p.slit()\n",
    "    \n",
    "    for word in p_liste:\n",
    "        list_to_find=pluslarge(word, s)\n",
    "        \n",
    "        for e in list_to_find:\n",
    "            if e==word :\n",
    "                score+=5\n",
    "                \n",
    "            else:\n",
    "                score+=1\n",
    "    return score"
   ]
  },
  {
   "cell_type": "code",
   "execution_count": 14,
   "metadata": {},
   "outputs": [
    {
     "name": "stdout",
     "output_type": "stream",
     "text": [
      "19\n",
      "11\n"
     ]
    }
   ],
   "source": [
    "# 3.\n",
    "\n",
    "def score(p, s):\n",
    "    sc = 0\n",
    "    q = \" \"+sub(\"[,.]\",\"\", p)+\" \"\n",
    "    z = \" \" + sub(\"[,.]\",\"\", s)\n",
    "    for x in p.split():\n",
    "        sc += len(pluslarge(x, s))\n",
    "        sc += 4*z.count(\" \"+x+\" \")\n",
    "    return sc\n",
    "p=\"Le petit bonhomme en mousse\"\n",
    "t = \"Ce superbe matelas en mousse naturelle\"\n",
    "print(score(\"les trois gros\", 'Les etrois tris, lys trois gros, les troisx roi.'))\n",
    "print(score(p, t))"
   ]
  },
  {
   "cell_type": "code",
   "execution_count": 23,
   "metadata": {},
   "outputs": [
    {
     "name": "stdout",
     "output_type": "stream",
     "text": [
      "19\n",
      "11\n"
     ]
    }
   ],
   "source": [
    "def bonus(p,s):\n",
    "    sc = 0\n",
    "    q = \" \" + sub(\"[,.]\", \"\", p) + \" \"\n",
    "    z = \" \" + sub(\"[,.]\", \"\", s)\n",
    "    mot = p.split()\n",
    "    for x in mot :\n",
    "        for i in pluslarge(x, z):\n",
    "            sc +=5 if i in q else 1\n",
    "    for y in range(len(mot)-1) :\n",
    "        if \" \" + mot[y] + \" \" + mot[y+1] + \" \" in z :\n",
    "            sc +=20 \n",
    "    return sc\n",
    "\n",
    "p = \"Le petit bonhomme en mousse\"\n",
    "t = \"Ce super matelas en mousse naturelle\"\n",
    "print(score(\"les trois gros\", 'Les etrois tris, lys trois gros, les troisx roi.'))\n",
    "print(score(p, t))"
   ]
  },
  {
   "cell_type": "code",
   "execution_count": 29,
   "metadata": {},
   "outputs": [
    {
     "name": "stdout",
     "output_type": "stream",
     "text": [
      "39\n",
      "31\n"
     ]
    }
   ],
   "source": [
    "def score2(p, s):\n",
    "    sc = 0\n",
    "    q = \" \"+sub(\"[,.]\",\"\", p)+\" \"\n",
    "    z = \" \" + sub(\"[,.]\",\"\", s)\n",
    "    mot = p.split()\n",
    "    for x in mot:\n",
    "        for i in pluslarge(x, z):\n",
    "            sc += 5 if i in q else 1\n",
    "    for y in range(len(mot)-1):\n",
    "        if \" \" + mot[y] + \" \" + mot[y+1] + \" \" in z:\n",
    "            sc += 20 \n",
    "    return sc\n",
    "\n",
    "p=\"Le petit bonhomme en mousse\"\n",
    "t = \"Ce superbe matelas en mousse naturelle\"\n",
    "print(score(\"les trois gros\", 'Les etrois tris, lys trois gros, les troisx roi.'))\n",
    "print(score(p, t))"
   ]
  },
  {
   "cell_type": "code",
   "execution_count": 30,
   "metadata": {},
   "outputs": [
    {
     "name": "stdout",
     "output_type": "stream",
     "text": [
      "Pandas.txt : 65\n",
      "Matplotlib.txt : 64\n",
      "Seaborn.txt : 37\n",
      "Numpy.txt : 30\n"
     ]
    }
   ],
   "source": [
    "import os\n",
    "liste = os.listdir('simplonsearch')\n",
    "results={}\n",
    "\n",
    "recherche = \"analyse et visualisation\"\n",
    "\n",
    "for file in liste:\n",
    "    filin = open(\"simplonsearch/\"+file, \"r\", encoding=\"utf-8\")\n",
    "    filin = filin.read()\n",
    "    results[file] = score2(recherche, filin)\n",
    "    \n",
    "tuples = sorted(results.items(), key=lambda item: item[1], reverse=True)\n",
    "\n",
    "for i, j in tuples :\n",
    "    print(i + \" : \" + str(j))"
   ]
  },
  {
   "cell_type": "code",
   "execution_count": 31,
   "metadata": {},
   "outputs": [
    {
     "name": "stdout",
     "output_type": "stream",
     "text": [
      "{'Matplotlib.txt': 64, 'Numpy.txt': 30, 'Seaborn.txt': 37, 'Pandas.txt': 65}\n"
     ]
    }
   ],
   "source": [
    "import os\n",
    "liste_des_textes = os.listdir(\"simplonsearch\")\n",
    "liste_des_textes_ouverts = []\n",
    "dico_final = {}\n",
    "\n",
    "for text in liste_des_textes :\n",
    "    liste_des_textes_ouverts.append(open(\"simplonsearch/\" + text, encoding = \"utf-8\").read()) \n",
    "    \n",
    "for i in range(len(liste_des_textes_ouverts)) :\n",
    "    dico_final[liste_des_textes[i]] = score(\"analyse et visualisation\", liste_des_textes_ouverts[i])\n",
    "\n",
    "print(dico_final)"
   ]
  },
  {
   "cell_type": "markdown",
   "metadata": {},
   "source": [
    "Facultatif :\n",
    "Vous pouvez utiliser la fonction nouvellement créé sur un ensemble de fichier txt et\n",
    "voir quel est le fichier qui correspond le plus à une phrase recherchée.\n",
    "Pour se faire :\n",
    "1. Importé « os » et utilisez la fonction os.listdir() afin de récupérer dans une liste\n",
    "des fichier présent dans dossiers.\n",
    "2. Vous pouvez lire chacun de ces fichiers :\n",
    "    a. Ouvre le fichier avec la fonction open() (pensez à spécifier l’encodage,\n",
    "    « encoding=\"utf-8\" ») et assigné le à une variables.\n",
    "    b. Utilisez la méthodes .read() et assigné l’objet retourné à une nouvelle\n",
    "    variables. Cette variable contiendra maintenant le contenu du fichier txt\n",
    "    sous forme de chaîne de caractères.\n",
    "    c. Utilisez la fonction score2() sur cette chaîne de caractères et stocké le\n",
    "    résultat dans un dictionnaire avec le nom du fichier pour clé et le score\n",
    "    pour valeur. Vous pouvez utiliser une boucle for pour répéter cela pour\n",
    "    tous les fichiers.\n",
    "    d. Afficher le contenu du dictionnaire en ordonnant les résultats par score\n",
    "    descendant. Utiliser la fonction sorted() ."
   ]
  },
  {
   "cell_type": "code",
   "execution_count": null,
   "metadata": {},
   "outputs": [],
   "source": []
  }
 ],
 "metadata": {
  "kernelspec": {
   "display_name": "Python 3",
   "language": "python",
   "name": "python3"
  },
  "language_info": {
   "codemirror_mode": {
    "name": "ipython",
    "version": 3
   },
   "file_extension": ".py",
   "mimetype": "text/x-python",
   "name": "python",
   "nbconvert_exporter": "python",
   "pygments_lexer": "ipython3",
   "version": "3.8.5"
  }
 },
 "nbformat": 4,
 "nbformat_minor": 4
}
