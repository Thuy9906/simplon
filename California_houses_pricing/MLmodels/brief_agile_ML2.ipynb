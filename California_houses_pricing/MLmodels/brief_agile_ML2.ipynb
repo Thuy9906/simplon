{
 "cells": [
  {
   "cell_type": "code",
   "execution_count": 43,
   "metadata": {},
   "outputs": [
    {
     "data": {
      "text/html": [
       "<div>\n",
       "<style scoped>\n",
       "    .dataframe tbody tr th:only-of-type {\n",
       "        vertical-align: middle;\n",
       "    }\n",
       "\n",
       "    .dataframe tbody tr th {\n",
       "        vertical-align: top;\n",
       "    }\n",
       "\n",
       "    .dataframe thead th {\n",
       "        text-align: right;\n",
       "    }\n",
       "</style>\n",
       "<table border=\"1\" class=\"dataframe\">\n",
       "  <thead>\n",
       "    <tr style=\"text-align: right;\">\n",
       "      <th></th>\n",
       "      <th>longitude</th>\n",
       "      <th>latitude</th>\n",
       "      <th>housing_median_age</th>\n",
       "      <th>total_rooms</th>\n",
       "      <th>total_bedrooms</th>\n",
       "      <th>population</th>\n",
       "      <th>households</th>\n",
       "      <th>median_income</th>\n",
       "      <th>median_house_value</th>\n",
       "      <th>ocean_proximity</th>\n",
       "      <th>rooms_in_house</th>\n",
       "      <th>bedrooms_in_rooms</th>\n",
       "      <th>bedrooms_in_house</th>\n",
       "      <th>population_per_household</th>\n",
       "    </tr>\n",
       "  </thead>\n",
       "  <tbody>\n",
       "    <tr>\n",
       "      <th>0</th>\n",
       "      <td>-122.23</td>\n",
       "      <td>37.88</td>\n",
       "      <td>41.0</td>\n",
       "      <td>880.0</td>\n",
       "      <td>129.0</td>\n",
       "      <td>322.0</td>\n",
       "      <td>126.0</td>\n",
       "      <td>8.3252</td>\n",
       "      <td>452600.0</td>\n",
       "      <td>2</td>\n",
       "      <td>6.984127</td>\n",
       "      <td>0.146591</td>\n",
       "      <td>1.023810</td>\n",
       "      <td>2.555556</td>\n",
       "    </tr>\n",
       "    <tr>\n",
       "      <th>1</th>\n",
       "      <td>-122.22</td>\n",
       "      <td>37.86</td>\n",
       "      <td>21.0</td>\n",
       "      <td>7099.0</td>\n",
       "      <td>1106.0</td>\n",
       "      <td>2401.0</td>\n",
       "      <td>1138.0</td>\n",
       "      <td>8.3014</td>\n",
       "      <td>358500.0</td>\n",
       "      <td>2</td>\n",
       "      <td>6.238137</td>\n",
       "      <td>0.155797</td>\n",
       "      <td>0.971880</td>\n",
       "      <td>2.109842</td>\n",
       "    </tr>\n",
       "    <tr>\n",
       "      <th>2</th>\n",
       "      <td>-122.24</td>\n",
       "      <td>37.85</td>\n",
       "      <td>52.0</td>\n",
       "      <td>1467.0</td>\n",
       "      <td>190.0</td>\n",
       "      <td>496.0</td>\n",
       "      <td>177.0</td>\n",
       "      <td>7.2574</td>\n",
       "      <td>352100.0</td>\n",
       "      <td>2</td>\n",
       "      <td>8.288136</td>\n",
       "      <td>0.129516</td>\n",
       "      <td>1.073446</td>\n",
       "      <td>2.802260</td>\n",
       "    </tr>\n",
       "    <tr>\n",
       "      <th>3</th>\n",
       "      <td>-122.25</td>\n",
       "      <td>37.85</td>\n",
       "      <td>52.0</td>\n",
       "      <td>1274.0</td>\n",
       "      <td>235.0</td>\n",
       "      <td>558.0</td>\n",
       "      <td>219.0</td>\n",
       "      <td>5.6431</td>\n",
       "      <td>341300.0</td>\n",
       "      <td>2</td>\n",
       "      <td>5.817352</td>\n",
       "      <td>0.184458</td>\n",
       "      <td>1.073059</td>\n",
       "      <td>2.547945</td>\n",
       "    </tr>\n",
       "    <tr>\n",
       "      <th>4</th>\n",
       "      <td>-122.25</td>\n",
       "      <td>37.85</td>\n",
       "      <td>52.0</td>\n",
       "      <td>1627.0</td>\n",
       "      <td>280.0</td>\n",
       "      <td>565.0</td>\n",
       "      <td>259.0</td>\n",
       "      <td>3.8462</td>\n",
       "      <td>342200.0</td>\n",
       "      <td>2</td>\n",
       "      <td>6.281853</td>\n",
       "      <td>0.172096</td>\n",
       "      <td>1.081081</td>\n",
       "      <td>2.181467</td>\n",
       "    </tr>\n",
       "    <tr>\n",
       "      <th>...</th>\n",
       "      <td>...</td>\n",
       "      <td>...</td>\n",
       "      <td>...</td>\n",
       "      <td>...</td>\n",
       "      <td>...</td>\n",
       "      <td>...</td>\n",
       "      <td>...</td>\n",
       "      <td>...</td>\n",
       "      <td>...</td>\n",
       "      <td>...</td>\n",
       "      <td>...</td>\n",
       "      <td>...</td>\n",
       "      <td>...</td>\n",
       "      <td>...</td>\n",
       "    </tr>\n",
       "    <tr>\n",
       "      <th>19443</th>\n",
       "      <td>-121.09</td>\n",
       "      <td>39.48</td>\n",
       "      <td>25.0</td>\n",
       "      <td>1665.0</td>\n",
       "      <td>374.0</td>\n",
       "      <td>845.0</td>\n",
       "      <td>330.0</td>\n",
       "      <td>1.5603</td>\n",
       "      <td>78100.0</td>\n",
       "      <td>1</td>\n",
       "      <td>5.045455</td>\n",
       "      <td>0.224625</td>\n",
       "      <td>1.133333</td>\n",
       "      <td>2.560606</td>\n",
       "    </tr>\n",
       "    <tr>\n",
       "      <th>19444</th>\n",
       "      <td>-121.21</td>\n",
       "      <td>39.49</td>\n",
       "      <td>18.0</td>\n",
       "      <td>697.0</td>\n",
       "      <td>150.0</td>\n",
       "      <td>356.0</td>\n",
       "      <td>114.0</td>\n",
       "      <td>2.5568</td>\n",
       "      <td>77100.0</td>\n",
       "      <td>1</td>\n",
       "      <td>6.114035</td>\n",
       "      <td>0.215208</td>\n",
       "      <td>1.315789</td>\n",
       "      <td>3.122807</td>\n",
       "    </tr>\n",
       "    <tr>\n",
       "      <th>19445</th>\n",
       "      <td>-121.22</td>\n",
       "      <td>39.43</td>\n",
       "      <td>17.0</td>\n",
       "      <td>2254.0</td>\n",
       "      <td>485.0</td>\n",
       "      <td>1007.0</td>\n",
       "      <td>433.0</td>\n",
       "      <td>1.7000</td>\n",
       "      <td>92300.0</td>\n",
       "      <td>1</td>\n",
       "      <td>5.205543</td>\n",
       "      <td>0.215173</td>\n",
       "      <td>1.120092</td>\n",
       "      <td>2.325635</td>\n",
       "    </tr>\n",
       "    <tr>\n",
       "      <th>19446</th>\n",
       "      <td>-121.32</td>\n",
       "      <td>39.43</td>\n",
       "      <td>18.0</td>\n",
       "      <td>1860.0</td>\n",
       "      <td>409.0</td>\n",
       "      <td>741.0</td>\n",
       "      <td>349.0</td>\n",
       "      <td>1.8672</td>\n",
       "      <td>84700.0</td>\n",
       "      <td>1</td>\n",
       "      <td>5.329513</td>\n",
       "      <td>0.219892</td>\n",
       "      <td>1.171920</td>\n",
       "      <td>2.123209</td>\n",
       "    </tr>\n",
       "    <tr>\n",
       "      <th>19447</th>\n",
       "      <td>-121.24</td>\n",
       "      <td>39.37</td>\n",
       "      <td>16.0</td>\n",
       "      <td>2785.0</td>\n",
       "      <td>616.0</td>\n",
       "      <td>1387.0</td>\n",
       "      <td>530.0</td>\n",
       "      <td>2.3886</td>\n",
       "      <td>89400.0</td>\n",
       "      <td>1</td>\n",
       "      <td>5.254717</td>\n",
       "      <td>0.221185</td>\n",
       "      <td>1.162264</td>\n",
       "      <td>2.616981</td>\n",
       "    </tr>\n",
       "  </tbody>\n",
       "</table>\n",
       "<p>19448 rows × 14 columns</p>\n",
       "</div>"
      ],
      "text/plain": [
       "       longitude  latitude  housing_median_age  total_rooms  total_bedrooms  \\\n",
       "0        -122.23     37.88                41.0        880.0           129.0   \n",
       "1        -122.22     37.86                21.0       7099.0          1106.0   \n",
       "2        -122.24     37.85                52.0       1467.0           190.0   \n",
       "3        -122.25     37.85                52.0       1274.0           235.0   \n",
       "4        -122.25     37.85                52.0       1627.0           280.0   \n",
       "...          ...       ...                 ...          ...             ...   \n",
       "19443    -121.09     39.48                25.0       1665.0           374.0   \n",
       "19444    -121.21     39.49                18.0        697.0           150.0   \n",
       "19445    -121.22     39.43                17.0       2254.0           485.0   \n",
       "19446    -121.32     39.43                18.0       1860.0           409.0   \n",
       "19447    -121.24     39.37                16.0       2785.0           616.0   \n",
       "\n",
       "       population  households  median_income  median_house_value  \\\n",
       "0           322.0       126.0         8.3252            452600.0   \n",
       "1          2401.0      1138.0         8.3014            358500.0   \n",
       "2           496.0       177.0         7.2574            352100.0   \n",
       "3           558.0       219.0         5.6431            341300.0   \n",
       "4           565.0       259.0         3.8462            342200.0   \n",
       "...           ...         ...            ...                 ...   \n",
       "19443       845.0       330.0         1.5603             78100.0   \n",
       "19444       356.0       114.0         2.5568             77100.0   \n",
       "19445      1007.0       433.0         1.7000             92300.0   \n",
       "19446       741.0       349.0         1.8672             84700.0   \n",
       "19447      1387.0       530.0         2.3886             89400.0   \n",
       "\n",
       "       ocean_proximity  rooms_in_house  bedrooms_in_rooms  bedrooms_in_house  \\\n",
       "0                    2        6.984127           0.146591           1.023810   \n",
       "1                    2        6.238137           0.155797           0.971880   \n",
       "2                    2        8.288136           0.129516           1.073446   \n",
       "3                    2        5.817352           0.184458           1.073059   \n",
       "4                    2        6.281853           0.172096           1.081081   \n",
       "...                ...             ...                ...                ...   \n",
       "19443                1        5.045455           0.224625           1.133333   \n",
       "19444                1        6.114035           0.215208           1.315789   \n",
       "19445                1        5.205543           0.215173           1.120092   \n",
       "19446                1        5.329513           0.219892           1.171920   \n",
       "19447                1        5.254717           0.221185           1.162264   \n",
       "\n",
       "       population_per_household  \n",
       "0                      2.555556  \n",
       "1                      2.109842  \n",
       "2                      2.802260  \n",
       "3                      2.547945  \n",
       "4                      2.181467  \n",
       "...                         ...  \n",
       "19443                  2.560606  \n",
       "19444                  3.122807  \n",
       "19445                  2.325635  \n",
       "19446                  2.123209  \n",
       "19447                  2.616981  \n",
       "\n",
       "[19448 rows x 14 columns]"
      ]
     },
     "execution_count": 43,
     "metadata": {},
     "output_type": "execute_result"
    }
   ],
   "source": [
    "import pandas as pd \n",
    "data = pd.read_csv(\"JDD/housing_treated.csv\")\n",
    "data"
   ]
  },
  {
   "cell_type": "code",
   "execution_count": 44,
   "metadata": {},
   "outputs": [
    {
     "name": "stdout",
     "output_type": "stream",
     "text": [
      "(19448, 5) (19448, 1)\n",
      "(11668, 5) (11668, 1)\n",
      "(3890, 5) (3890, 1)\n",
      "(3890, 5) (3890, 1)\n",
      "[[406090.54444673]]\n"
     ]
    }
   ],
   "source": [
    "import sklearn.linear_model\n",
    "from sklearn.model_selection import train_test_split\n",
    "import numpy as np\n",
    "\n",
    "\n",
    "# Prepare the data\n",
    "X = np.c_[data[[\"housing_median_age\",\"median_income\",\"ocean_proximity\",\"rooms_in_house\",\"bedrooms_in_rooms\"]]]\n",
    "y = np.c_[data[\"median_house_value\"]]\n",
    "\n",
    "X_train, X_test, y_train, y_test = train_test_split(\n",
    "        X, y, test_size=0.4, random_state=0)\n",
    "\n",
    "X_valid, X_test, y_valid, y_test = train_test_split(\n",
    "        X_test, y_test, test_size=0.5)\n",
    "\n",
    "print(X.shape, y.shape)\n",
    "\n",
    "print(X_train.shape, y_train.shape)\n",
    "print(X_valid.shape, y_valid.shape)\n",
    "print(X_test.shape, y_test.shape)\n",
    "\n",
    "# Visualize the data\n",
    "#data.plot(kind='scatter', x=\"GDP per capita\", y='Life satisfaction')\n",
    "#plt.show()\n",
    "\n",
    "# Select a linear model\n",
    "model = sklearn.linear_model.LinearRegression()\n",
    "\n",
    "# Train the model\n",
    "model.fit(X_train, y_train)\n",
    "\n",
    "# Make a prediction for Cyprus\n",
    "X_new = [[41.0,8.3252,2,6.984126984126984,0.14659090909090908]]  \n",
    "print(model.predict(X_new))"
   ]
  },
  {
   "cell_type": "code",
   "execution_count": 45,
   "metadata": {},
   "outputs": [
    {
     "name": "stdout",
     "output_type": "stream",
     "text": [
      "[[388034.28625446]]\n"
     ]
    }
   ],
   "source": [
    "import sklearn.linear_model\n",
    "from sklearn.model_selection import train_test_split\n",
    "from sklearn.metrics import mean_absolute_error, mean_squared_error, r2_score\n",
    "import numpy as np\n",
    "\n",
    "\n",
    "# Prepare the data\n",
    "X = np.c_[data[[\"median_income\",\"ocean_proximity\",\"rooms_in_house\",\"bedrooms_in_rooms\"]]]\n",
    "y = np.c_[data[\"median_house_value\"]]\n",
    "\n",
    "X_train, X_test, y_train, y_test = train_test_split(\n",
    "        X, y, test_size=0.4, random_state=0)\n",
    "\n",
    "X_valid, X_test, y_valid, y_test = train_test_split(\n",
    "        X_test, y_test, test_size=0.5)\n",
    "\n",
    "\n",
    "# Select a linear model\n",
    "model = sklearn.linear_model.LinearRegression()\n",
    "\n",
    "# Train the model\n",
    "model.fit(X_train, y_train)\n",
    "\n",
    "# Make a prediction for Cyprus\n",
    "X_new = [[8.3252,2,6.984126984126984,0.14659090909090908]]  \n",
    "print(model.predict(X_new)) "
   ]
  },
  {
   "cell_type": "code",
   "execution_count": 46,
   "metadata": {},
   "outputs": [
    {
     "name": "stdout",
     "output_type": "stream",
     "text": [
      "{'modele': 'model 1', 'mean_absolute_error': 47925.08290042506, 'mean_squared_error': 4222833163.7648277, 'r2_score': 0.5656611945473952}\n"
     ]
    }
   ],
   "source": [
    "metric = {'modele': 'model 1',\n",
    "          'mean_absolute_error': mean_absolute_error(y_valid, model.predict(X_valid)),\n",
    "          'mean_squared_error': mean_squared_error(y_valid, model.predict(X_valid)),\n",
    "          'r2_score':r2_score(y_valid, model.predict(X_valid))\n",
    "         }\n",
    "print(metric)"
   ]
  },
  {
   "cell_type": "code",
   "execution_count": 47,
   "metadata": {},
   "outputs": [
    {
     "data": {
      "text/plain": [
       "Pipeline(steps=[('standardscaler', StandardScaler()),\n",
       "                ('sgdregressor', SGDRegressor(alpha=0.001, max_iter=10000))])"
      ]
     },
     "execution_count": 47,
     "metadata": {},
     "output_type": "execute_result"
    }
   ],
   "source": [
    "from sklearn.pipeline import make_pipeline\n",
    "from sklearn.preprocessing import StandardScaler\n",
    "from sklearn.linear_model import SGDRegressor\n",
    "\n",
    "# Prepare the data\n",
    "X = np.c_[data[[\"housing_median_age\",\"median_income\",\"ocean_proximity\",\"rooms_in_house\",\"bedrooms_in_rooms\"]]]\n",
    "y = np.array(data[\"median_house_value\"])\n",
    "\n",
    "X_train, X_test, y_train, y_test = train_test_split(\n",
    "        X, y, test_size=0.4, random_state=0)\n",
    "\n",
    "X_valid, X_test, y_valid, y_test = train_test_split(\n",
    "        X_test, y_test, test_size=0.5)\n",
    "\n",
    "model = make_pipeline(StandardScaler(), SGDRegressor(max_iter=10000, alpha=0.001))\n",
    "model.fit(X_train, y_train)"
   ]
  },
  {
   "cell_type": "code",
   "execution_count": 48,
   "metadata": {},
   "outputs": [
    {
     "name": "stdout",
     "output_type": "stream",
     "text": [
      "{'modele': 'model 1', 'mean_absolute_error': 47959.25421815615, 'mean_squared_error(rooted)': 64418.91368002903, 'r2_score': 0.5641932947159727}\n"
     ]
    }
   ],
   "source": [
    "metric1 = {'modele': 'model 1',\n",
    "          'mean_absolute_error': mean_absolute_error(y_valid, model.predict(X_valid)),\n",
    "          'mean_squared_error(rooted)': np.sqrt(mean_squared_error(y_valid, model.predict(X_valid))),\n",
    "          'r2_score':r2_score(y_valid, model.predict(X_valid))\n",
    "         }\n",
    "print(metric1)"
   ]
  },
  {
   "cell_type": "code",
   "execution_count": 49,
   "metadata": {},
   "outputs": [
    {
     "data": {
      "text/plain": [
       "Pipeline(steps=[('standardscaler', StandardScaler()),\n",
       "                ('sgdregressor', SGDRegressor(alpha=0.001, max_iter=10000))])"
      ]
     },
     "execution_count": 49,
     "metadata": {},
     "output_type": "execute_result"
    }
   ],
   "source": [
    "# Prepare the data\n",
    "X = np.c_[data[[\"median_income\",\"ocean_proximity\",\"bedrooms_in_rooms\"]]]\n",
    "y = np.array(data[\"median_house_value\"])\n",
    "\n",
    "X_train, X_test, y_train, y_test = train_test_split(\n",
    "        X, y, test_size=0.4, random_state=0)\n",
    "\n",
    "X_valid, X_test, y_valid, y_test = train_test_split(\n",
    "        X_test, y_test, test_size=0.5)\n",
    "\n",
    "model = make_pipeline(StandardScaler(), SGDRegressor(max_iter=10000, alpha=0.001))\n",
    "model.fit(X_train, y_train)"
   ]
  },
  {
   "cell_type": "code",
   "execution_count": 50,
   "metadata": {},
   "outputs": [
    {
     "name": "stdout",
     "output_type": "stream",
     "text": [
      "{'modele': 'model 2', 'mean_absolute_error': 47097.17649688482, 'mean_squared_error(rooted)': 64024.674749440914, 'r2_score': 0.5628408235081059}\n"
     ]
    }
   ],
   "source": [
    "metric2 = {'modele': 'model 2',\n",
    "          'mean_absolute_error': mean_absolute_error(y_valid, model.predict(X_valid)),\n",
    "          'mean_squared_error(rooted)': np.sqrt(mean_squared_error(y_valid, model.predict(X_valid))),\n",
    "          'r2_score':r2_score(y_valid, model.predict(X_valid))\n",
    "         }\n",
    "print(metric2)"
   ]
  },
  {
   "cell_type": "code",
   "execution_count": 51,
   "metadata": {},
   "outputs": [
    {
     "data": {
      "text/plain": [
       "Pipeline(steps=[('standardscaler', StandardScaler()),\n",
       "                ('sgdregressor', SGDRegressor(alpha=0.001, max_iter=10000))])"
      ]
     },
     "execution_count": 51,
     "metadata": {},
     "output_type": "execute_result"
    }
   ],
   "source": [
    "# Prepare the data\n",
    "X = np.c_[data[[\"median_income\",\"ocean_proximity\"]]]\n",
    "y = np.array(data[\"median_house_value\"])\n",
    "\n",
    "X_train, X_test, y_train, y_test = train_test_split(\n",
    "        X, y, test_size=0.4, random_state=0)\n",
    "\n",
    "X_valid, X_test, y_valid, y_test = train_test_split(\n",
    "        X_test, y_test, test_size=0.5)\n",
    "\n",
    "model = make_pipeline(StandardScaler(), SGDRegressor(max_iter=10000, alpha=0.001))\n",
    "model.fit(X_train, y_train)"
   ]
  },
  {
   "cell_type": "code",
   "execution_count": 52,
   "metadata": {},
   "outputs": [
    {
     "name": "stdout",
     "output_type": "stream",
     "text": [
      "{'modele': 'model 3', 'mean_absolute_error': 47388.61337662321, 'mean_squared_error(rooted)': 64676.14486982674, 'r2_score': 0.5653432404710841}\n"
     ]
    }
   ],
   "source": [
    "metric3 = {'modele': 'model 3',\n",
    "          'mean_absolute_error': mean_absolute_error(y_valid, model.predict(X_valid)),\n",
    "          'mean_squared_error(rooted)': np.sqrt(mean_squared_error(y_valid, model.predict(X_valid))),\n",
    "          'r2_score':r2_score(y_valid, model.predict(X_valid))\n",
    "         }\n",
    "print(metric3)"
   ]
  },
  {
   "cell_type": "code",
   "execution_count": 53,
   "metadata": {},
   "outputs": [
    {
     "data": {
      "text/plain": [
       "Pipeline(steps=[('standardscaler', StandardScaler()),\n",
       "                ('sgdregressor', SGDRegressor(alpha=0.001, max_iter=10000))])"
      ]
     },
     "execution_count": 53,
     "metadata": {},
     "output_type": "execute_result"
    }
   ],
   "source": [
    "# Prepare the data\n",
    "X = np.c_[data[[\"housing_median_age\",\"median_income\",\"ocean_proximity\",\"rooms_in_house\",\"bedrooms_in_rooms\",\"total_rooms\"]]]\n",
    "y = np.array(data[\"median_house_value\"])\n",
    "\n",
    "X_train, X_test, y_train, y_test = train_test_split(\n",
    "        X, y, test_size=0.4, random_state=0)\n",
    "\n",
    "X_valid, X_test, y_valid, y_test = train_test_split(\n",
    "        X_test, y_test, test_size=0.5)\n",
    "\n",
    "model = make_pipeline(StandardScaler(), SGDRegressor(max_iter=10000, alpha=0.001))\n",
    "model.fit(X_train, y_train)"
   ]
  },
  {
   "cell_type": "code",
   "execution_count": 54,
   "metadata": {},
   "outputs": [
    {
     "name": "stdout",
     "output_type": "stream",
     "text": [
      "{'modele': 'model 4', 'mean_absolute_error': 47556.93178830179, 'mean_squared_error(rooted)': 63269.64232138374, 'r2_score': 0.5770800068457324}\n"
     ]
    }
   ],
   "source": [
    "metric4 = {'modele': 'model 4',\n",
    "          'mean_absolute_error': mean_absolute_error(y_valid, model.predict(X_valid)),\n",
    "          'mean_squared_error(rooted)': np.sqrt(mean_squared_error(y_valid, model.predict(X_valid))),\n",
    "          'r2_score':r2_score(y_valid, model.predict(X_valid))\n",
    "         }\n",
    "print(metric4)"
   ]
  },
  {
   "cell_type": "code",
   "execution_count": 55,
   "metadata": {},
   "outputs": [
    {
     "data": {
      "text/plain": [
       "Pipeline(steps=[('standardscaler', StandardScaler()),\n",
       "                ('sgdregressor', SGDRegressor(alpha=0.001, max_iter=10000))])"
      ]
     },
     "execution_count": 55,
     "metadata": {},
     "output_type": "execute_result"
    }
   ],
   "source": [
    "# Prepare the data\n",
    "data_all = data.drop(\"median_house_value\",axis=1)\n",
    "X = np.c_[data_all]\n",
    "y = np.array(data[\"median_house_value\"])\n",
    "\n",
    "X_train, X_test, y_train, y_test = train_test_split(\n",
    "        X, y, test_size=0.4, random_state=0)\n",
    "\n",
    "X_valid, X_test, y_valid, y_test = train_test_split(\n",
    "        X_test, y_test, test_size=0.5)\n",
    "\n",
    "model = make_pipeline(StandardScaler(), SGDRegressor(max_iter=10000, alpha=0.001))\n",
    "model.fit(X_train, y_train)"
   ]
  },
  {
   "cell_type": "code",
   "execution_count": 56,
   "metadata": {},
   "outputs": [
    {
     "name": "stdout",
     "output_type": "stream",
     "text": [
      "{'modele': 'model 5', 'mean_absolute_error': 42819.533181804094, 'mean_squared_error(rooted)': 58633.2537238988, 'r2_score': 0.6320819913427076}\n"
     ]
    }
   ],
   "source": [
    "metric5 = {'modele': 'model 5',\n",
    "          'mean_absolute_error': mean_absolute_error(y_valid, model.predict(X_valid)),\n",
    "          'mean_squared_error(rooted)': np.sqrt(mean_squared_error(y_valid, model.predict(X_valid))),\n",
    "          'r2_score':r2_score(y_valid, model.predict(X_valid))\n",
    "         }\n",
    "print(metric5)"
   ]
  },
  {
   "cell_type": "code",
   "execution_count": 57,
   "metadata": {},
   "outputs": [
    {
     "data": {
      "text/plain": [
       "Pipeline(steps=[('standardscaler', StandardScaler()),\n",
       "                ('randomforestregressor', RandomForestRegressor())])"
      ]
     },
     "execution_count": 57,
     "metadata": {},
     "output_type": "execute_result"
    }
   ],
   "source": [
    "from sklearn.ensemble import RandomForestRegressor\n",
    "#model = RandomForestRegressor()\n",
    "\n",
    "# Prepare the data\n",
    "data_all = data.drop(\"median_house_value\",axis=1)\n",
    "X = np.c_[data_all]\n",
    "y = np.array(data[\"median_house_value\"])\n",
    "\n",
    "X_train, X_test, y_train, y_test = train_test_split(\n",
    "        X, y, test_size=0.4, random_state=0)\n",
    "\n",
    "X_valid, X_test, y_valid, y_test = train_test_split(\n",
    "        X_test, y_test, test_size=0.5)\n",
    "\n",
    "model = make_pipeline(StandardScaler(), RandomForestRegressor())\n",
    "model.fit(X_train, y_train)\n"
   ]
  },
  {
   "cell_type": "code",
   "execution_count": 58,
   "metadata": {},
   "outputs": [
    {
     "name": "stdout",
     "output_type": "stream",
     "text": [
      "{'modele': 'model 6', 'mean_absolute_error': 29870.60650385604, 'mean_squared_error(rooted)': 43449.52948960194, 'r2_score': 0.797757745826562}\n"
     ]
    }
   ],
   "source": [
    "metric6 = {'modele': 'model 6',\n",
    "          'mean_absolute_error': mean_absolute_error(y_valid, model.predict(X_valid)),\n",
    "          'mean_squared_error(rooted)': np.sqrt(mean_squared_error(y_valid, model.predict(X_valid))),\n",
    "          'r2_score':r2_score(y_valid, model.predict(X_valid))\n",
    "         }\n",
    "print(metric6)"
   ]
  },
  {
   "cell_type": "code",
   "execution_count": 21,
   "metadata": {},
   "outputs": [
    {
     "data": {
      "text/plain": [
       "GridSearchCV(estimator=RandomForestRegressor(),\n",
       "             param_grid=[{'max_features': [2, 4, 6, 8],\n",
       "                          'n_estimators': [3, 10, 30, 100, 1000]},\n",
       "                         {'bootstrap': [False], 'max_features': [2, 3, 4],\n",
       "                          'n_estimators': [3, 10]}],\n",
       "             return_train_score=True, scoring='neg_mean_squared_error')"
      ]
     },
     "execution_count": 21,
     "metadata": {},
     "output_type": "execute_result"
    }
   ],
   "source": [
    "from sklearn.model_selection import GridSearchCV\n",
    "\n",
    "# Prepare the data\n",
    "data_all = data.drop(\"median_house_value\",axis=1)\n",
    "X = np.c_[data_all]\n",
    "y = np.array(data[\"median_house_value\"])\n",
    "\n",
    "X_train, X_test, y_train, y_test = train_test_split(\n",
    "        X, y, test_size=0.4, random_state=0)\n",
    "\n",
    "X_valid, X_test, y_valid, y_test = train_test_split(\n",
    "        X_test, y_test, test_size=0.5)\n",
    "\n",
    "model = RandomForestRegressor()\n",
    "params = [\n",
    "{'n_estimators': [3, 10, 30,100,1000], 'max_features': [2, 4, 6, 8]},\n",
    "{'bootstrap': [False], 'n_estimators': [3, 10], 'max_features': [2, 3, 4]},\n",
    "]\n",
    "\n",
    "grid = GridSearchCV(model,params,scoring=\"neg_mean_squared_error\",return_train_score=True)\n",
    "grid.fit(X_train,y_train)\n",
    "\n"
   ]
  },
  {
   "cell_type": "code",
   "execution_count": 22,
   "metadata": {},
   "outputs": [
    {
     "data": {
      "text/plain": [
       "{'max_features': 4, 'n_estimators': 1000}"
      ]
     },
     "execution_count": 22,
     "metadata": {},
     "output_type": "execute_result"
    }
   ],
   "source": [
    "grid.best_params_"
   ]
  },
  {
   "cell_type": "code",
   "execution_count": 60,
   "metadata": {},
   "outputs": [
    {
     "name": "stdout",
     "output_type": "stream",
     "text": [
      "{'modele': 'model 7', 'mean_absolute_error': 30915.208493059123, 'mean_squared_error(rooted)': 45764.99834818643, 'r2_score': 0.7797869573441595}\n"
     ]
    }
   ],
   "source": [
    "from sklearn.ensemble import RandomForestRegressor\n",
    "#model = RandomForestRegressor()\n",
    "\n",
    "# Prepare the data\n",
    "data_all = data.drop(\"median_house_value\",axis=1)\n",
    "X = np.c_[data_all]\n",
    "y = np.array(data[\"median_house_value\"])\n",
    "\n",
    "X_train, X_test, y_train, y_test = train_test_split(\n",
    "        X, y, test_size=0.4, random_state=0)\n",
    "\n",
    "X_valid, X_test, y_valid, y_test = train_test_split(\n",
    "        X_test, y_test, test_size=0.5)\n",
    "\n",
    "model = make_pipeline(StandardScaler(), RandomForestRegressor(max_features=4,n_estimators=1000))\n",
    "model.fit(X_train, y_train)\n",
    "\n",
    "metric7 = {'modele': 'model 7',\n",
    "          'mean_absolute_error': mean_absolute_error(y_valid, model.predict(X_valid)),\n",
    "          'mean_squared_error(rooted)': np.sqrt(mean_squared_error(y_valid, model.predict(X_valid))),\n",
    "          'r2_score':r2_score(y_valid, model.predict(X_valid))\n",
    "         }\n",
    "print(metric7)"
   ]
  },
  {
   "cell_type": "code",
   "execution_count": 59,
   "metadata": {},
   "outputs": [
    {
     "data": {
      "text/html": [
       "<div>\n",
       "<style scoped>\n",
       "    .dataframe tbody tr th:only-of-type {\n",
       "        vertical-align: middle;\n",
       "    }\n",
       "\n",
       "    .dataframe tbody tr th {\n",
       "        vertical-align: top;\n",
       "    }\n",
       "\n",
       "    .dataframe thead th {\n",
       "        text-align: right;\n",
       "    }\n",
       "</style>\n",
       "<table border=\"1\" class=\"dataframe\">\n",
       "  <thead>\n",
       "    <tr style=\"text-align: right;\">\n",
       "      <th></th>\n",
       "      <th>modele</th>\n",
       "      <th>mean_absolute_error</th>\n",
       "      <th>mean_squared_error(rooted)</th>\n",
       "      <th>r2_score</th>\n",
       "    </tr>\n",
       "  </thead>\n",
       "  <tbody>\n",
       "    <tr>\n",
       "      <th>0</th>\n",
       "      <td>model 1</td>\n",
       "      <td>47959.254218</td>\n",
       "      <td>64418.913680</td>\n",
       "      <td>0.564193</td>\n",
       "    </tr>\n",
       "    <tr>\n",
       "      <th>1</th>\n",
       "      <td>model 2</td>\n",
       "      <td>47097.176497</td>\n",
       "      <td>64024.674749</td>\n",
       "      <td>0.562841</td>\n",
       "    </tr>\n",
       "    <tr>\n",
       "      <th>2</th>\n",
       "      <td>model 3</td>\n",
       "      <td>47388.613377</td>\n",
       "      <td>64676.144870</td>\n",
       "      <td>0.565343</td>\n",
       "    </tr>\n",
       "    <tr>\n",
       "      <th>3</th>\n",
       "      <td>model 4</td>\n",
       "      <td>47556.931788</td>\n",
       "      <td>63269.642321</td>\n",
       "      <td>0.577080</td>\n",
       "    </tr>\n",
       "    <tr>\n",
       "      <th>4</th>\n",
       "      <td>model 5</td>\n",
       "      <td>42819.533182</td>\n",
       "      <td>58633.253724</td>\n",
       "      <td>0.632082</td>\n",
       "    </tr>\n",
       "    <tr>\n",
       "      <th>5</th>\n",
       "      <td>model 6</td>\n",
       "      <td>29870.606504</td>\n",
       "      <td>43449.529490</td>\n",
       "      <td>0.797758</td>\n",
       "    </tr>\n",
       "  </tbody>\n",
       "</table>\n",
       "</div>"
      ],
      "text/plain": [
       "    modele  mean_absolute_error  mean_squared_error(rooted)  r2_score\n",
       "0  model 1         47959.254218                64418.913680  0.564193\n",
       "1  model 2         47097.176497                64024.674749  0.562841\n",
       "2  model 3         47388.613377                64676.144870  0.565343\n",
       "3  model 4         47556.931788                63269.642321  0.577080\n",
       "4  model 5         42819.533182                58633.253724  0.632082\n",
       "5  model 6         29870.606504                43449.529490  0.797758"
      ]
     },
     "execution_count": 59,
     "metadata": {},
     "output_type": "execute_result"
    }
   ],
   "source": [
    "metric = pd.DataFrame([metric1, metric2, metric3, metric4, metric5,metric6,metric7])\n",
    "metric"
   ]
  },
  {
   "cell_type": "code",
   "execution_count": 61,
   "metadata": {},
   "outputs": [
    {
     "data": {
      "text/plain": [
       "array([263722.6])"
      ]
     },
     "execution_count": 61,
     "metadata": {},
     "output_type": "execute_result"
    }
   ],
   "source": [
    "X_new = [[-122.26,37.85,52,2202,434,910,402,3.203100,2,5.477612,0.197094,1.079602,2.263682]] \n",
    "model.predict(X_new)"
   ]
  },
  {
   "cell_type": "code",
   "execution_count": 64,
   "metadata": {},
   "outputs": [
    {
     "data": {
      "text/plain": [
       "array([191738.8])"
      ]
     },
     "execution_count": 64,
     "metadata": {},
     "output_type": "execute_result"
    }
   ],
   "source": [
    "X_new = [[-117.83,33.68,4,3226,838,1666,800,4.1652,2,4.0325,0.259764,1.0475,2.0825]] \n",
    "model.predict(X_new)"
   ]
  },
  {
   "cell_type": "code",
   "execution_count": 63,
   "metadata": {},
   "outputs": [
    {
     "data": {
      "text/plain": [
       "longitude                     -117.830000\n",
       "latitude                        33.680000\n",
       "housing_median_age               4.000000\n",
       "total_rooms                   3226.000000\n",
       "total_bedrooms                 838.000000\n",
       "population                    1666.000000\n",
       "households                     800.000000\n",
       "median_income                    4.165200\n",
       "median_house_value          184500.000000\n",
       "ocean_proximity                  2.000000\n",
       "rooms_in_house                   4.032500\n",
       "bedrooms_in_rooms                0.259764\n",
       "bedrooms_in_house                1.047500\n",
       "population_per_household         2.082500\n",
       "Name: 10000, dtype: float64"
      ]
     },
     "execution_count": 63,
     "metadata": {},
     "output_type": "execute_result"
    }
   ],
   "source": [
    "data.iloc[10000]"
   ]
  },
  {
   "cell_type": "code",
   "execution_count": 20,
   "metadata": {},
   "outputs": [
    {
     "data": {
      "text/plain": [
       "Unnamed: 0                      10.000000\n",
       "longitude                     -122.260000\n",
       "latitude                        37.850000\n",
       "housing_median_age              52.000000\n",
       "total_rooms                   2202.000000\n",
       "total_bedrooms                 434.000000\n",
       "population                     910.000000\n",
       "households                     402.000000\n",
       "median_income                    3.203100\n",
       "median_house_value          281500.000000\n",
       "ocean_proximity                  2.000000\n",
       "rooms_in_house                   5.477612\n",
       "bedrooms_in_rooms                0.197094\n",
       "bedrooms_in_house                1.079602\n",
       "population_per_household         2.263682\n",
       "Name: 10, dtype: float64"
      ]
     },
     "execution_count": 20,
     "metadata": {},
     "output_type": "execute_result"
    }
   ],
   "source": [
    "data.iloc[10]"
   ]
  },
  {
   "cell_type": "code",
   "execution_count": null,
   "metadata": {},
   "outputs": [],
   "source": []
  }
 ],
 "metadata": {
  "kernelspec": {
   "display_name": "Python 3",
   "language": "python",
   "name": "python3"
  },
  "language_info": {
   "codemirror_mode": {
    "name": "ipython",
    "version": 3
   },
   "file_extension": ".py",
   "mimetype": "text/x-python",
   "name": "python",
   "nbconvert_exporter": "python",
   "pygments_lexer": "ipython3",
   "version": "3.8.11"
  }
 },
 "nbformat": 4,
 "nbformat_minor": 4
}
