{
 "cells": [
  {
   "cell_type": "code",
   "execution_count": 5,
   "metadata": {},
   "outputs": [
    {
     "name": "stdout",
     "output_type": "stream",
     "text": [
      "Entrez un nombre35\n",
      "C'est un nombre impaire\n"
     ]
    }
   ],
   "source": [
    "a =int(input(\"Entrez un nombre\"))\n",
    "isOdd = (\"C'est un nombre impaire\", \"C'est un nombre paire\")[a % 2 == 0]\n",
    "print (isOdd)"
   ]
  },
  {
   "cell_type": "code",
   "execution_count": 7,
   "metadata": {},
   "outputs": [
    {
     "data": {
      "text/plain": [
       "'triangle rectangle'"
      ]
     },
     "execution_count": 7,
     "metadata": {},
     "output_type": "execute_result"
    }
   ],
   "source": [
    "import math\n",
    "def checktriangle(a, b, c):\n",
    "    a2= a*a\n",
    "    b2= b*b\n",
    "    c2= c*c\n",
    "    if (a2 + b2 == c2) or (a2 == b2 + c2) or (a2 + c2 == b2) :\n",
    "        return \"triangle rectangle\"\n",
    "    else :\n",
    "        return \"triangle non rectangle\"\n",
    "checktriangle (4,5,3)"
   ]
  },
  {
   "cell_type": "markdown",
   "metadata": {},
   "source": [
    "1. Ecrire un programme qui à partir d’une saisie d’un nombre vous dit s’il\n",
    "est paire ou impaire.\n",
    "2. Etant donné les longueurs des cotés d’un triangle (hypoténuse, coté\n",
    "adjacent) écrire un programme qui vérifie si un triangle est rectangle.\n",
    "3. Créer un programme qui donne le prix TTC après avoir saisie le prix HT.\n",
    "Ce programme doit se répéter pour pouvoir entrer plusieurs prix à la\n",
    "suite et ne s’arrêter que si l’utilisateur rentre 0.\n",
    "4. Soit les listes L1 = [2, 7, 3, 1, 5, 7, 1] et L2 = [8, 5, 9, 4, 1, 1, 5]. Produisez\n",
    "une liste L3 qui contient une seul et unique fois tout les éléments de L1\n",
    "et L2.\n",
    "5. Ecrire un programme qui vérifie si la liste [1, 2, 3, 4, 3, 2, 1] et un\n",
    "palindrome."
   ]
  },
  {
   "cell_type": "code",
   "execution_count": 18,
   "metadata": {},
   "outputs": [
    {
     "name": "stdout",
     "output_type": "stream",
     "text": [
      "Entrez un prix HT (Taper 0 pour arrêter)8\n",
      "9.6\n",
      "Entrez un prix HT (Taper 0 pour arrêter)9\n",
      "10.8\n",
      "Entrez un prix HT (Taper 0 pour arrêter)0\n",
      "0.0\n"
     ]
    }
   ],
   "source": [
    "prixHT = 1\n",
    "while prixHT!=0 :\n",
    "    prixHT = float(input(\"Entrez un prix HT (Taper 0 pour arrêter)\"))\n",
    "    print(prixHT*6/5)"
   ]
  },
  {
   "cell_type": "code",
   "execution_count": 44,
   "metadata": {},
   "outputs": [
    {
     "name": "stdout",
     "output_type": "stream",
     "text": [
      "[2, 7, 3, 1, 5, 7, 1, 8, 5, 9, 4, 1, 1, 5]\n"
     ]
    }
   ],
   "source": [
    "L1 = [2, 7, 3, 1, 5, 7, 1]\n",
    "L2 = [8, 5, 9, 4, 1, 1, 5]\n",
    "L3 = []\n",
    "for i in range (0,len(L1)) :\n",
    "    L3.append(L1[i])\n",
    "for i in range (0,len(L2)) :\n",
    "    L3.append(L2[i])\n",
    "print (L3)"
   ]
  },
  {
   "cell_type": "code",
   "execution_count": 53,
   "metadata": {},
   "outputs": [
    {
     "name": "stdout",
     "output_type": "stream",
     "text": [
      "[1, 2, 3, 4, 4, 3, 2, 1]\n",
      "palindrome\n"
     ]
    }
   ],
   "source": [
    "L = [1, 2, 3, 4, 4, 3, 2, 1]\n",
    "Lbis = []\n",
    "for i in reversed(range(len(L))) :\n",
    "    Lbis.append(L[i])\n",
    "print (\"palindrome\") if L==Lbis else print (\"not a palindrome\")"
   ]
  },
  {
   "cell_type": "code",
   "execution_count": 67,
   "metadata": {},
   "outputs": [
    {
     "name": "stdout",
     "output_type": "stream",
     "text": [
      "[1, 5, 15, 18, 20, 55, 60, 65, 77, 80, 85, 93, 98, 99]\n"
     ]
    }
   ],
   "source": [
    "L1 = [1, 15, 18, 55, 60, 65, 77, 80, 85, 93, 99]\n",
    "L2 = [5, 15, 20, 77, 98]\n",
    "L3 = []\n",
    "#initialisation variable\n",
    "i = 0\n",
    "j = 0\n",
    "\n",
    "#boucle principale pour vérifier qu'il reste des éléments à parcourir dans les 2 listes\n",
    "while i<len(L1) and j<len(L2) : \n",
    "    \n",
    "    #comparaison des éléments dans les deux listes\n",
    "    if L1[i]<L2[j] : \n",
    "        L3.append(L1[i]) \n",
    "        i+=1\n",
    "    elif L1[i]==L2[j] : \n",
    "        L3.append(L1[i]) \n",
    "        i+=1\n",
    "        j+=1\n",
    "    elif L2[j]<L1[i] : \n",
    "        L3.append(L2[j]) \n",
    "        j+=1 \n",
    "        \n",
    "#basculer les éléments restants       \n",
    "if i < len(L1):\n",
    "    for x in range (len(L1)-i) : L3.append(L1[i+x])\n",
    "if j < len(L2):\n",
    "    for x in range (len(L2)-j) : L3.append(L2[j+x])\n",
    "print (L3)\n",
    "        "
   ]
  },
  {
   "cell_type": "code",
   "execution_count": 68,
   "metadata": {},
   "outputs": [
    {
     "name": "stdout",
     "output_type": "stream",
     "text": [
      "[1, 5, 15, 18, 20, 55, 60, 65, 77, 80, 85, 93, 98, 99]\n"
     ]
    }
   ],
   "source": [
    "L1 = [1, 15, 18, 55, 60, 65, 77, 80, 85, 93, 99]\n",
    "L2 = [5, 15, 20, 77, 98]\n",
    "L3 = []\n",
    "i = 0\n",
    "j = 0\n",
    "while i<len(L1) or j<len(L2) : \n",
    "    if L1[i]<L2[j] : \n",
    "        L3.append(L1[i]) \n",
    "        i+=1\n",
    "        if i == len(L1):\n",
    "            for x in range (len(L2)-j) : L3.append(L2[j+x])\n",
    "            j = len(L2)\n",
    "    elif L1[i]==L2[j] : \n",
    "        L3.append(L1[i]) \n",
    "        i+=1\n",
    "        j+=1\n",
    "        # pas besoin de traiter fin de liste car l'élément suivant de l'autre liste est forcément supérieur au dernier élément\n",
    "    elif L2[j]<L1[i] : \n",
    "        L3.append(L2[j]) \n",
    "        j+=1 \n",
    "        if j == len(L2):\n",
    "            for x in range (len(L1)-i) : L3.append(L1[i+x]) \n",
    "            i = len(L1)\n",
    "print (L3)"
   ]
  },
  {
   "cell_type": "code",
   "execution_count": null,
   "metadata": {},
   "outputs": [],
   "source": [
    "# fusionner deux listes triées \n",
    "L1 = [ 1, 17, 22, 53, 75, 89] \n",
    "L2 = [ 0, 5, 7, 20, 25, 30, 58, 71, 80, 98, 99] \n",
    " \n",
    "R = [] \n",
    "i = 0 \n",
    "j = 0 \n",
    "nb1 = len(L1) \n",
    "nb2 = len(L2) \n",
    " \n",
    "while i<nb1 and j<nb2 : #il reste des éléments dans les 2 listes \n",
    "    if L1[i] < L2[j] :  # on traite l’élément de L1 et on avance \n",
    "        R.append(L1[i]) \n",
    "        i += 1 \n",
    "    else :              # on traite l’élément de L2 et on avance \n",
    "        R.append(L2[j]) \n",
    "        j += 1 \n",
    "        \n",
    "while i < nb1 :   # on traite les éléments restants dans L1 \n",
    "    R.append(L1[i]) \n",
    "    i += 1  \n",
    "\n",
    "while j < nb2 :   # on traite les éléments restants dans L2 \n",
    "    R.append(L2[j]) \n",
    "    j += 1 \n",
    "    \n",
    "print(R)"
   ]
  },
  {
   "cell_type": "code",
   "execution_count": null,
   "metadata": {},
   "outputs": [],
   "source": [
    "nb_list1 = [1,2,3,4,5,6]\n",
    "nb_list2 = [1,3,5,6,9,10,13]\n",
    "nb_list3 = []\n",
    "i = j = 0\n",
    "while i < len(nb_list1) and j < len(nb_list2):\n",
    "    if nb_list1[i] <= nb_list2[j]:\n",
    "        nb_list3.append(nb_list1[i])\n",
    "        i += 1\n",
    "    else:\n",
    "        nb_list3.append(nb_list2[j])\n",
    "        j += 1\n",
    "nb_list3 = nb_list3 + nb_list1[i:] + nb_list2[j:]\n",
    "print(\"Résultat :\")\n",
    "print(nb_list3)"
   ]
  }
 ],
 "metadata": {
  "kernelspec": {
   "display_name": "Python 3",
   "language": "python",
   "name": "python3"
  },
  "language_info": {
   "codemirror_mode": {
    "name": "ipython",
    "version": 3
   },
   "file_extension": ".py",
   "mimetype": "text/x-python",
   "name": "python",
   "nbconvert_exporter": "python",
   "pygments_lexer": "ipython3",
   "version": "3.8.5"
  }
 },
 "nbformat": 4,
 "nbformat_minor": 4
}
