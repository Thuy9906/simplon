{
 "cells": [
  {
   "cell_type": "code",
   "execution_count": 102,
   "metadata": {},
   "outputs": [
    {
     "name": "stdout",
     "output_type": "stream",
     "text": [
      "intérieur 3\n",
      "extérieur 3\n"
     ]
    }
   ],
   "source": [
    "a=2\n",
    "def test():\n",
    "    global a\n",
    "    a=3\n",
    "    print('intérieur', a)\n",
    "test()\n",
    "print ('apres test', a)"
   ]
  },
  {
   "cell_type": "code",
   "execution_count": 105,
   "metadata": {},
   "outputs": [
    {
     "name": "stdout",
     "output_type": "stream",
     "text": [
      "je m'appelle pour x= 10\n",
      "je m'appelle pour x= 5.0\n",
      "je m'appelle pour x= 2.5\n",
      "je m'appelle pas pour x= 1.25\n"
     ]
    },
    {
     "data": {
      "text/plain": [
       "4"
      ]
     },
     "execution_count": 105,
     "metadata": {},
     "output_type": "execute_result"
    }
   ],
   "source": [
    "def recursive(x):\n",
    "    if x/2<1:\n",
    "        print (\"je m'appelle pas pour x=\",x)\n",
    "        return 1\n",
    "    else :\n",
    "        print(\"je m'appelle pour x=\",x)\n",
    "        return recursive(x/2)+1\n",
    "recursive(10)"
   ]
  },
  {
   "cell_type": "code",
   "execution_count": 2,
   "metadata": {},
   "outputs": [
    {
     "name": "stdout",
     "output_type": "stream",
     "text": [
      "3\n"
     ]
    }
   ],
   "source": [
    "s1 = \"Ce texte contient deux fois le mot texte.\"\n",
    "print(s1.find('texte',0))"
   ]
  },
  {
   "cell_type": "code",
   "execution_count": 3,
   "metadata": {},
   "outputs": [
    {
     "name": "stdout",
     "output_type": "stream",
     "text": [
      "3\n",
      "35\n",
      "-1\n"
     ]
    }
   ],
   "source": [
    "s1 = \"Ce texte contient deux fois le mot texte.\"\n",
    "max = 0\n",
    "while max >-1:\n",
    "    max = s1.find('texte', max+1)\n",
    "    print(max)"
   ]
  },
  {
   "cell_type": "code",
   "execution_count": 7,
   "metadata": {},
   "outputs": [
    {
     "name": "stdout",
     "output_type": "stream",
     "text": [
      "20\n",
      "Le prix est de $deux \n",
      "Le prix est de $2.15\n"
     ]
    }
   ],
   "source": [
    "s1 = \"Le prix est de deux euros.\"\n",
    "if 'euros' in s1:\n",
    "    i=s1.index('euros')\n",
    "    print(i)\n",
    "    s2=s1[:i-5] + '$' + s1[i-5:i]\n",
    "    print(s2)\n",
    "    j=s2.find('deux')\n",
    "    s3=s2[:j] + '2.15' + s2[j+4:]\n",
    "    print(s3)"
   ]
  },
  {
   "cell_type": "code",
   "execution_count": 8,
   "metadata": {},
   "outputs": [
    {
     "name": "stdout",
     "output_type": "stream",
     "text": [
      "Le prix est de 2.15.\n"
     ]
    }
   ],
   "source": [
    "s1= \"Le prix est de deux euros.\"\n",
    "s2=s1.replace('deux euros', '2.15')\n",
    "print(s2)"
   ]
  },
  {
   "cell_type": "code",
   "execution_count": 9,
   "metadata": {},
   "outputs": [
    {
     "name": "stdout",
     "output_type": "stream",
     "text": [
      "nombre\n",
      "mot\n",
      "?\n"
     ]
    }
   ],
   "source": [
    "s='300 seulement ?'\n",
    "l=s.split()\n",
    "for mot in l:\n",
    "    if mot.isalpha():\n",
    "        print('mot')\n",
    "    if mot.isnumeric():\n",
    "        print('nombre')\n",
    "    if not mot.isalnum():\n",
    "        print('?')"
   ]
  },
  {
   "cell_type": "code",
   "execution_count": 11,
   "metadata": {},
   "outputs": [
    {
     "name": "stdout",
     "output_type": "stream",
     "text": [
      "['Le', 'Argentine']\n",
      "['PIB', 'Argentine', 'baisse', 'depuis']\n"
     ]
    }
   ],
   "source": [
    "from re import findall\n",
    "s=\"Le PIB de l'Argentine baisse depuis 3 ans\"\n",
    "l1=findall('[A-Z][a-z]+',s)\n",
    "l2=findall('[a-zA-Z]*[iI][a-zA-Z]*', s)\n",
    "print(l1)\n",
    "print(l2)"
   ]
  },
  {
   "cell_type": "code",
   "execution_count": 14,
   "metadata": {},
   "outputs": [
    {
     "name": "stdout",
     "output_type": "stream",
     "text": [
      "['0612998226', '09.84.72.10.02', '0612998226', '0984.72.10.02', '09.84.72.1009']\n"
     ]
    }
   ],
   "source": [
    "from re import findall\n",
    "motif = '0[1-9](?:[\\s\\.]?[0-9]{2}){4}'\n",
    "n1=\"0612998226\"\n",
    "n2=\"09.84.72.10.02\"\n",
    "n3=\"0612998226,\"\n",
    "n4=\"0984.72.10.02\"\n",
    "n5=\"09.84.72.10\"\n",
    "n6=\"09-84-72-10-02\"\n",
    "s = n1+n2+n3+n4+n5+n6\n",
    "print(findall(motif, s))"
   ]
  },
  {
   "cell_type": "code",
   "execution_count": 17,
   "metadata": {},
   "outputs": [
    {
     "name": "stdout",
     "output_type": "stream",
     "text": [
      "Un texte HTML</strong>avec des baliseset même<script type=\"texte/jvs\">var i=5;</script> du javascript dedans\n"
     ]
    }
   ],
   "source": [
    "from re import sub\n",
    "s='Un texte <strong>HTML</strong> avec des balises'\n",
    "s+=' et même<script type=\"texte/jvs\">'\n",
    "s+=' var i=5;</script> du javascript dedans'\n",
    "s1 = sub('<[a-z]*>','',s)\n",
    "print(s1)"
   ]
  },
  {
   "cell_type": "code",
   "execution_count": 19,
   "metadata": {},
   "outputs": [
    {
     "name": "stdout",
     "output_type": "stream",
     "text": [
      "Un texte  du javascript dedans\n",
      "Un texte HTML avec des balises et même var i=5; du javascript dedans\n",
      "Un texte HTML avec des balises et même var i=5; du javascript dedans\n"
     ]
    }
   ],
   "source": [
    "s='Un texte <strong>HTML</strong> avec des balises'\n",
    "s+=' et même<script type=\"texte/jvs\">'\n",
    "s+=' var i=5;</script> du javascript dedans'\n",
    "s1=sub('<.*>','',s)\n",
    "s2=sub('<[a-z\\\\/\"=\\s]*>','', s)\n",
    "s3=sub('<[^>]*>','',s)\n",
    "print(s1)\n",
    "print(s2)\n",
    "print(s3)"
   ]
  },
  {
   "cell_type": "markdown",
   "metadata": {},
   "source": [
    "1. Ecrire une fonction hascap(s) qui renvoie tout les mots de la chaîne\n",
    "s commençant par une majuscule.\n",
    "ØPour ce faire utiliser la fonction ord() pour obtenir le code ASCII des lettres\n",
    "(Les lettres majuscule ont un code allant de 65 à 90).\n",
    "2. Proposer une fonction inflation(s) qui va doubler la valeur de tout\n",
    "les nombre dans la chaine s. Exemple : « Le prix est de 27 euros »\n",
    "devient « Le prix est de 54 euros ».\n",
    "ØUtiliser la fonction enumerate() pour lancer une boucle for (Taper dans\n",
    "Google « enumerate boucle for ».)"
   ]
  },
  {
   "cell_type": "code",
   "execution_count": 88,
   "metadata": {},
   "outputs": [
    {
     "name": "stdout",
     "output_type": "stream",
     "text": [
      "['Je', 'Panda']\n"
     ]
    }
   ],
   "source": [
    "def hascap(s):\n",
    "    l=s.split()\n",
    "    cap =[]\n",
    "    for i in l:\n",
    "        if ord(i[0]) <90 and ord(i[0])>65: #if ord(m[0]) in range(65, 91):\n",
    "            cap.append(i)\n",
    "    print(cap)\n",
    "hascap(\"Je suis un Panda\")"
   ]
  },
  {
   "cell_type": "code",
   "execution_count": 77,
   "metadata": {},
   "outputs": [
    {
     "name": "stdout",
     "output_type": "stream",
     "text": [
      "1 3\n",
      "4 6\n",
      "[\"J'ai\", '6', 'bic', 'de', '12', 'euros']\n",
      "J'ai 6 bic de 12 euros\n"
     ]
    }
   ],
   "source": [
    "def inflation(s):\n",
    "    l= s.split()\n",
    "    for i, e in enumerate(l):\n",
    "        if e.isnumeric():\n",
    "            print(i,e)\n",
    "            l[i]=str(int(e)*2)\n",
    "    print(\" \".join(l))\n",
    "inflation(\"J'ai 3 bic de 6 euros\")"
   ]
  },
  {
   "cell_type": "markdown",
   "metadata": {},
   "source": [
    "3. Proposer une fonction lignes qui à partir d’une long chaîne s (>100\n",
    "caractères) renvoie une liste de chaîne de caractères contenant\n",
    "chacun 24 caractères maximum et terminant par un espace.\n",
    "Voici un exemple de chaîne sur le quel vous pouvez travailler :\n",
    "Øs = \"Onze ans déjà que cela passe vite Vous \"\n",
    "s += \"vous étiez servis simplement de vos armes la \"\n",
    "s += \"mort n‘éblouit pas les yeux des partisans Vous \"\n",
    "s += \"aviez vos portraits sur les murs de nos villes \"\n",
    "\n",
    "• Entrée : Longue chaîne de caractère\n",
    "    • Traitement :\n",
    "    • Partage de la chaîne de caractère en une liste de mots\n",
    "    • On crée une liste vide lignes\n",
    "    • Pour tout mot dans la liste :\n",
    "        • On ajoute un espace à mot\n",
    "        • Si la longueur du dernière élément de la liste vide + la longueur du mot < 24 :\n",
    "            • On ajoute le mot au dernier élément de la liste ligne (+= mot)\n",
    "        • Si non :\n",
    "            • On ajoute le mot en tant que dernier élément de la liste\n",
    "• Sortie : liste ligne"
   ]
  },
  {
   "cell_type": "code",
   "execution_count": 97,
   "metadata": {},
   "outputs": [
    {
     "name": "stdout",
     "output_type": "stream",
     "text": [
      "['Onze ans déjà que cela ', 'passe vite Vous vous ', 'étiez servis ', 'simplement de vos ', 'armes lamort n‘éblouit ', 'pas les yeux des ', 'partisans Vous aviez ', 'vos portraits sur les ', 'murs de nos villes ']\n"
     ]
    }
   ],
   "source": [
    "def lignes(s):\n",
    "    l=s.split()\n",
    "    lignes=['']\n",
    "    for mot in l:\n",
    "        mot+=' '\n",
    "        if len(mot)+len(lignes[-1])<24:\n",
    "            lignes[-1]+=mot\n",
    "        else:\n",
    "            lignes.append(mot)\n",
    "    print(lignes)\n",
    "lignes(\"Onze ans déjà que cela passe vite Vous vous étiez servis simplement de vos armes lamort n‘éblouit pas les yeux des partisans Vous aviez vos portraits sur les murs de nos villes\")"
   ]
  },
  {
   "cell_type": "markdown",
   "metadata": {},
   "source": [
    "4. Proposer un programme qui renvoie la liste de tout les nombres (y\n",
    "compris décimaux et négatifs) d’une chaîne de caractères.\n",
    "A tester sur la chaîne : « Les 2 maquereaux valent 6.50 euros ».\n",
    "5. Proposer une fonction arrondi(s) qui dans la chaîne s troncature\n",
    "tout les nombre décimaux. On autorise les nombres négatifs.\n",
    "Pour ce faire, vous avez la possibilité d’utiliser :\n",
    "Ødes () pour désigner des blocs de données dans l’expression rationnelle.\n",
    "Øpour remplacer chacun des blocs l’expression est r’\\1_\\2_’."
   ]
  },
  {
   "cell_type": "code",
   "execution_count": 100,
   "metadata": {},
   "outputs": [
    {
     "name": "stdout",
     "output_type": "stream",
     "text": [
      "['-27', '36,50']\n"
     ]
    }
   ],
   "source": [
    "def renvoienombre(s):\n",
    "    l=findall('-?[0-9]+[.,]?[0-9]*',s) #('-?\\d+\\S*',s)\n",
    "    print(l)\n",
    "renvoienombre(\"Les -27 maquereaux valent 36,50 euros\")"
   ]
  },
  {
   "cell_type": "code",
   "execution_count": 101,
   "metadata": {},
   "outputs": [
    {
     "name": "stdout",
     "output_type": "stream",
     "text": [
      "L'evolution sur 3 jours est de 7 points\n"
     ]
    }
   ],
   "source": [
    "from re import *\n",
    "def tronc(s):\n",
    "    motif = r\"(-?)([0-9]+)[,.]?[0-9]*\"\n",
    "    return sub(motif, r\"\\1\\2\", s)\n",
    "s = \"L'evolution sur 3,5 jours est de 7.23 points\"\n",
    "print(tronc(s))"
   ]
  },
  {
   "cell_type": "code",
   "execution_count": null,
   "metadata": {},
   "outputs": [],
   "source": []
  }
 ],
 "metadata": {
  "kernelspec": {
   "display_name": "Python 3",
   "language": "python",
   "name": "python3"
  },
  "language_info": {
   "codemirror_mode": {
    "name": "ipython",
    "version": 3
   },
   "file_extension": ".py",
   "mimetype": "text/x-python",
   "name": "python",
   "nbconvert_exporter": "python",
   "pygments_lexer": "ipython3",
   "version": "3.8.5"
  }
 },
 "nbformat": 4,
 "nbformat_minor": 4
}
