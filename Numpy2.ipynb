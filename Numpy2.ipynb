{
 "cells": [
  {
   "cell_type": "code",
   "execution_count": 3,
   "metadata": {},
   "outputs": [
    {
     "name": "stdout",
     "output_type": "stream",
     "text": [
      "[['1986' 'Western Pacific' 'Viet Nam' 'Wine' '0']\n",
      " ['1986' 'Americas' 'Uruguay' 'Other' '0.5']\n",
      " ['1985' 'Africa' \"Cte d'Ivoire\" 'Wine' '1.62']\n",
      " ...\n",
      " ['1986' 'Europe' 'Switzerland' 'Spirits' '2.54']\n",
      " ['1987' 'Western Pacific' 'Papua New Guinea' 'Other' '0']\n",
      " ['1986' 'Africa' 'Swaziland' 'Other' '5.15']]\n"
     ]
    }
   ],
   "source": [
    "import numpy as np\n",
    "world_alcohol = np.genfromtxt('../Téléchargements/support de cours/world_alcohol.csv', delimiter =',', dtype =\"U75\", skip_header=1)\n",
    "print (world_alcohol)"
   ]
  },
  {
   "cell_type": "code",
   "execution_count": 4,
   "metadata": {},
   "outputs": [
    {
     "name": "stdout",
     "output_type": "stream",
     "text": [
      "[False False False ... False False False]\n"
     ]
    }
   ],
   "source": [
    "country_is_canada = world_alcohol [:,2] ==\"Canada\"\n",
    "print (country_is_canada)"
   ]
  },
  {
   "cell_type": "code",
   "execution_count": 5,
   "metadata": {},
   "outputs": [
    {
     "name": "stdout",
     "output_type": "stream",
     "text": [
      "[['1984' 'Americas' 'Canada' 'Spirits' '3.35']\n",
      " ['1989' 'Americas' 'Canada' 'Wine' '1.27']\n",
      " ['1984' 'Americas' 'Canada' 'Beer' '5']\n",
      " ['1985' 'Americas' 'Canada' 'Beer' '4.94']\n",
      " ['1987' 'Americas' 'Canada' 'Wine' '1.3']\n",
      " ['1987' 'Americas' 'Canada' 'Beer' '4.83']\n",
      " ['1986' 'Americas' 'Canada' 'Other' '']\n",
      " ['1986' 'Americas' 'Canada' 'Spirits' '3.11']\n",
      " ['1985' 'Americas' 'Canada' 'Spirits' '3.21']\n",
      " ['1985' 'Americas' 'Canada' 'Other' '']\n",
      " ['1986' 'Americas' 'Canada' 'Beer' '4.87']\n",
      " ['1984' 'Americas' 'Canada' 'Wine' '1.24']\n",
      " ['1989' 'Americas' 'Canada' 'Spirits' '2.91']\n",
      " ['1984' 'Americas' 'Canada' 'Other' '']\n",
      " ['1985' 'Americas' 'Canada' 'Wine' '1.29']\n",
      " ['1987' 'Americas' 'Canada' 'Spirits' '2.99']\n",
      " ['1989' 'Americas' 'Canada' 'Beer' '4.82']\n",
      " ['1989' 'Americas' 'Canada' 'Other' '']\n",
      " ['1986' 'Americas' 'Canada' 'Wine' '1.33']\n",
      " ['1987' 'Americas' 'Canada' 'Other' '']]\n"
     ]
    }
   ],
   "source": [
    "countries_canada = world_alcohol[country_is_canada]\n",
    "print (countries_canada)"
   ]
  },
  {
   "cell_type": "code",
   "execution_count": 6,
   "metadata": {},
   "outputs": [
    {
     "name": "stdout",
     "output_type": "stream",
     "text": [
      "(20, 5)\n"
     ]
    }
   ],
   "source": [
    "print (countries_canada.shape)"
   ]
  },
  {
   "cell_type": "code",
   "execution_count": 9,
   "metadata": {},
   "outputs": [
    {
     "name": "stdout",
     "output_type": "stream",
     "text": [
      "[False False False ... False False False]\n"
     ]
    }
   ],
   "source": [
    "country_is_algeria = world_alcohol [:,2] ==\"Algeria\"\n",
    "print (country_is_algeria)"
   ]
  },
  {
   "cell_type": "code",
   "execution_count": 12,
   "metadata": {},
   "outputs": [
    {
     "name": "stdout",
     "output_type": "stream",
     "text": [
      "[['1984' 'Africa' 'Algeria' 'Spirits' '0.01']\n",
      " ['1987' 'Africa' 'Algeria' 'Beer' '0.17']\n",
      " ['1987' 'Africa' 'Algeria' 'Spirits' '0.01']\n",
      " ['1986' 'Africa' 'Algeria' 'Wine' '0.1']\n",
      " ['1984' 'Africa' 'Algeria' 'Other' '0']\n",
      " ['1989' 'Africa' 'Algeria' 'Beer' '0.16']\n",
      " ['1989' 'Africa' 'Algeria' 'Spirits' '0.01']\n",
      " ['1989' 'Africa' 'Algeria' 'Wine' '0.23']\n",
      " ['1986' 'Africa' 'Algeria' 'Spirits' '0.01']\n",
      " ['1984' 'Africa' 'Algeria' 'Wine' '0.12']\n",
      " ['1985' 'Africa' 'Algeria' 'Beer' '0.19']\n",
      " ['1985' 'Africa' 'Algeria' 'Other' '0']\n",
      " ['1986' 'Africa' 'Algeria' 'Beer' '0.18']\n",
      " ['1985' 'Africa' 'Algeria' 'Wine' '0.11']\n",
      " ['1986' 'Africa' 'Algeria' 'Other' '0']\n",
      " ['1989' 'Africa' 'Algeria' 'Other' '0']\n",
      " ['1987' 'Africa' 'Algeria' 'Other' '0']\n",
      " ['1984' 'Africa' 'Algeria' 'Beer' '0.2']\n",
      " ['1985' 'Africa' 'Algeria' 'Spirits' '0.01']\n",
      " ['1987' 'Africa' 'Algeria' 'Wine' '0.1']]\n",
      "(20, 5)\n"
     ]
    }
   ],
   "source": [
    "countries_algeria = world_alcohol[country_is_algeria]\n",
    "print (countries_algeria)\n",
    "print (countries_algeria.shape)"
   ]
  },
  {
   "cell_type": "code",
   "execution_count": 16,
   "metadata": {},
   "outputs": [
    {
     "name": "stdout",
     "output_type": "stream",
     "text": [
      "[False False False ... False False False]\n",
      "[['1984' 'Africa' 'Nigeria' 'Other' '6.1']\n",
      " ['1984' 'Eastern Mediterranean' 'Afghanistan' 'Other' '0']\n",
      " ['1984' 'Americas' 'Costa Rica' 'Wine' '0.06']\n",
      " ...\n",
      " ['1984' 'Europe' 'Latvia' 'Spirits' '7.5']\n",
      " ['1984' 'Africa' 'Angola' 'Wine' '0.57']\n",
      " ['1984' 'Africa' 'Central African Republic' 'Wine' '0.46']]\n",
      "(646, 5)\n"
     ]
    }
   ],
   "source": [
    "year_is_1984 = world_alcohol [:,0] ==\"1984\"\n",
    "print (year_is_1984)\n",
    "year_1984 = world_alcohol[year_is_1984]\n",
    "print (year_1984)\n",
    "print (year_1984.shape)"
   ]
  },
  {
   "cell_type": "code",
   "execution_count": 20,
   "metadata": {},
   "outputs": [
    {
     "name": "stdout",
     "output_type": "stream",
     "text": [
      "[['1986' 'Africa' 'Algeria' 'Wine' '0.1']\n",
      " ['1986' 'Africa' 'Algeria' 'Spirits' '0.01']\n",
      " ['1986' 'Africa' 'Algeria' 'Beer' '0.18']\n",
      " ['1986' 'Africa' 'Algeria' 'Other' '0']]\n"
     ]
    }
   ],
   "source": [
    "is_algeria_and_1986 =(world_alcohol [:,0] ==\"1986\") & (world_alcohol [:,2] ==\"Algeria\")\n",
    "print (world_alcohol[is_algeria_and_1986])"
   ]
  },
  {
   "cell_type": "code",
   "execution_count": 21,
   "metadata": {},
   "outputs": [
    {
     "name": "stdout",
     "output_type": "stream",
     "text": [
      "[['1984' 'Americas' 'Canada' 'Spirits' '3.35']\n",
      " ['1984' 'Africa' 'Algeria' 'Spirits' '0.01']\n",
      " ['1987' 'Africa' 'Algeria' 'Beer' '0.17']\n",
      " ['1987' 'Africa' 'Algeria' 'Spirits' '0.01']\n",
      " ['1986' 'Africa' 'Algeria' 'Wine' '0.1']\n",
      " ['1989' 'Americas' 'Canada' 'Wine' '1.27']\n",
      " ['1984' 'Americas' 'Canada' 'Beer' '5']\n",
      " ['1985' 'Americas' 'Canada' 'Beer' '4.94']\n",
      " ['1987' 'Americas' 'Canada' 'Wine' '1.3']\n",
      " ['1984' 'Africa' 'Algeria' 'Other' '0']\n",
      " ['1989' 'Africa' 'Algeria' 'Beer' '0.16']\n",
      " ['1989' 'Africa' 'Algeria' 'Spirits' '0.01']\n",
      " ['1989' 'Africa' 'Algeria' 'Wine' '0.23']\n",
      " ['1987' 'Americas' 'Canada' 'Beer' '4.83']\n",
      " ['1986' 'Africa' 'Algeria' 'Spirits' '0.01']\n",
      " ['1984' 'Africa' 'Algeria' 'Wine' '0.12']\n",
      " ['1986' 'Americas' 'Canada' 'Other' '']\n",
      " ['1985' 'Africa' 'Algeria' 'Beer' '0.19']\n",
      " ['1986' 'Americas' 'Canada' 'Spirits' '3.11']\n",
      " ['1985' 'Africa' 'Algeria' 'Other' '0']\n",
      " ['1985' 'Americas' 'Canada' 'Spirits' '3.21']\n",
      " ['1985' 'Americas' 'Canada' 'Other' '']\n",
      " ['1986' 'Americas' 'Canada' 'Beer' '4.87']\n",
      " ['1986' 'Africa' 'Algeria' 'Beer' '0.18']\n",
      " ['1985' 'Africa' 'Algeria' 'Wine' '0.11']\n",
      " ['1984' 'Americas' 'Canada' 'Wine' '1.24']\n",
      " ['1986' 'Africa' 'Algeria' 'Other' '0']\n",
      " ['1989' 'Africa' 'Algeria' 'Other' '0']\n",
      " ['1987' 'Africa' 'Algeria' 'Other' '0']\n",
      " ['1989' 'Americas' 'Canada' 'Spirits' '2.91']\n",
      " ['1984' 'Africa' 'Algeria' 'Beer' '0.2']\n",
      " ['1985' 'Africa' 'Algeria' 'Spirits' '0.01']\n",
      " ['1987' 'Africa' 'Algeria' 'Wine' '0.1']\n",
      " ['1984' 'Americas' 'Canada' 'Other' '']\n",
      " ['1985' 'Americas' 'Canada' 'Wine' '1.29']\n",
      " ['1987' 'Americas' 'Canada' 'Spirits' '2.99']\n",
      " ['1989' 'Americas' 'Canada' 'Beer' '4.82']\n",
      " ['1989' 'Americas' 'Canada' 'Other' '']\n",
      " ['1986' 'Americas' 'Canada' 'Wine' '1.33']\n",
      " ['1987' 'Americas' 'Canada' 'Other' '']]\n"
     ]
    }
   ],
   "source": [
    "is_algeria_or_canada=(world_alcohol [:,2] ==\"Algeria\")|(world_alcohol [:,2] ==\"Canada\")\n",
    "print (world_alcohol[is_algeria_or_canada])"
   ]
  },
  {
   "cell_type": "code",
   "execution_count": 22,
   "metadata": {},
   "outputs": [
    {
     "name": "stdout",
     "output_type": "stream",
     "text": [
      "[['1986' 'Western Pacific' 'Viet Nam' 'Wine' '0']\n",
      " ['1986' 'Americas' 'Uruguay' 'Other' '0.5']\n",
      " ['1986' 'Americas' 'Colombia' 'Beer' '4.27']\n",
      " ...\n",
      " ['1986' 'Western Pacific' 'Fiji' 'Spirits' '0.05']\n",
      " ['1986' 'Europe' 'Switzerland' 'Spirits' '2.54']\n",
      " ['1986' 'Africa' 'Swaziland' 'Other' '5.15']]\n"
     ]
    }
   ],
   "source": [
    "world_alcohol2=world_alcohol.copy()\n",
    "print(world_alcohol2[world_alcohol2[:,0]=='1986'])"
   ]
  },
  {
   "cell_type": "code",
   "execution_count": 23,
   "metadata": {},
   "outputs": [
    {
     "name": "stdout",
     "output_type": "stream",
     "text": [
      "['1986' '1986' '1986' '1986' '1986' '1986' '1986' '1986' '1986' '1986'\n",
      " '1986' '1986' '1986' '1986' '1986' '1986' '1986' '1986' '1986' '1986'\n",
      " '1986' '1986' '1986' '1986' '1986' '1986' '1986' '1986' '1986' '1986'\n",
      " '1986' '1986' '1986' '1986' '1986' '1986' '1986' '1986' '1986' '1986'\n",
      " '1986' '1986' '1986' '1986' '1986' '1986' '1986' '1986' '1986' '1986'\n",
      " '1986' '1986' '1986' '1986' '1986' '1986' '1986' '1986' '1986' '1986'\n",
      " '1986' '1986' '1986' '1986' '1986' '1986' '1986' '1986' '1986' '1986'\n",
      " '1986' '1986' '1986' '1986' '1986' '1986' '1986' '1986' '1986' '1986'\n",
      " '1986' '1986' '1986' '1986' '1986' '1986' '1986' '1986' '1986' '1986'\n",
      " '1986' '1986' '1986' '1986' '1986' '1986' '1986' '1986' '1986' '1986'\n",
      " '1986' '1986' '1986' '1986' '1986' '1986' '1986' '1986' '1986' '1986'\n",
      " '1986' '1986' '1986' '1986' '1986' '1986' '1986' '1986' '1986' '1986'\n",
      " '1986' '1986' '1986' '1986' '1986' '1986' '1986' '1986' '1986' '1986'\n",
      " '1986' '1986' '1986' '1986' '1986' '1986' '1986' '1986' '1986' '1986'\n",
      " '1986' '1986' '1986' '1986' '1986' '1986' '1986' '1986' '1986' '1986'\n",
      " '1986' '1986' '1986' '1986' '1986' '1986' '1986' '1986' '1986' '1986'\n",
      " '1986' '1986' '1986' '1986' '1986' '1986' '1986' '1986' '1986' '1986'\n",
      " '1986' '1986' '1986' '1986' '1986' '1986' '1986' '1986' '1986' '1986'\n",
      " '1986' '1986' '1986' '1986' '1986' '1986' '1986' '1986' '1986' '1986'\n",
      " '1986' '1986' '1986' '1986' '1986' '1986' '1986' '1986' '1986' '1986'\n",
      " '1986' '1986' '1986' '1986' '1986' '1986' '1986' '1986' '1986' '1986'\n",
      " '1986' '1986' '1986' '1986' '1986' '1986' '1986' '1986' '1986' '1986'\n",
      " '1986' '1986' '1986' '1986' '1986' '1986' '1986' '1986' '1986' '1986'\n",
      " '1986' '1986' '1986' '1986' '1986' '1986' '1986' '1986' '1986' '1986'\n",
      " '1986' '1986' '1986' '1986' '1986' '1986' '1986' '1986' '1986' '1986'\n",
      " '1986' '1986' '1986' '1986' '1986' '1986' '1986' '1986' '1986' '1986'\n",
      " '1986' '1986' '1986' '1986' '1986' '1986' '1986' '1986' '1986' '1986'\n",
      " '1986' '1986' '1986' '1986' '1986' '1986' '1986' '1986' '1986' '1986'\n",
      " '1986' '1986' '1986' '1986' '1986' '1986' '1986' '1986' '1986' '1986'\n",
      " '1986' '1986' '1986' '1986' '1986' '1986' '1986' '1986' '1986' '1986'\n",
      " '1986' '1986' '1986' '1986' '1986' '1986' '1986' '1986' '1986' '1986'\n",
      " '1986' '1986' '1986' '1986' '1986' '1986' '1986' '1986' '1986' '1986'\n",
      " '1986' '1986' '1986' '1986' '1986' '1986' '1986' '1986' '1986' '1986'\n",
      " '1986' '1986' '1986' '1986' '1986' '1986' '1986' '1986' '1986' '1986'\n",
      " '1986' '1986' '1986' '1986' '1986' '1986' '1986' '1986' '1986' '1986'\n",
      " '1986' '1986' '1986' '1986' '1986' '1986' '1986' '1986' '1986' '1986'\n",
      " '1986' '1986' '1986' '1986' '1986' '1986' '1986' '1986' '1986' '1986'\n",
      " '1986' '1986' '1986' '1986' '1986' '1986' '1986' '1986' '1986' '1986'\n",
      " '1986' '1986' '1986' '1986' '1986' '1986' '1986' '1986' '1986' '1986'\n",
      " '1986' '1986' '1986' '1986' '1986' '1986' '1986' '1986' '1986' '1986'\n",
      " '1986' '1986' '1986' '1986' '1986' '1986' '1986' '1986' '1986' '1986'\n",
      " '1986' '1986' '1986' '1986' '1986' '1986' '1986' '1986' '1986' '1986'\n",
      " '1986' '1986' '1986' '1986' '1986' '1986' '1986' '1986' '1986' '1986'\n",
      " '1986' '1986' '1986' '1986' '1986' '1986' '1986' '1986' '1986' '1986'\n",
      " '1986' '1986' '1986' '1986' '1986' '1986' '1986' '1986' '1986' '1986'\n",
      " '1986' '1986' '1986' '1986' '1986' '1986' '1986' '1986' '1986' '1986'\n",
      " '1986' '1986' '1986' '1986' '1986' '1986' '1986' '1986' '1986' '1986'\n",
      " '1986' '1986' '1986' '1986' '1986' '1986' '1986' '1986' '1986' '1986'\n",
      " '1986' '1986' '1986' '1986' '1986' '1986' '1986' '1986' '1986' '1986'\n",
      " '1986' '1986' '1986' '1986' '1986' '1986' '1986' '1986' '1986' '1986'\n",
      " '1986' '1986' '1986' '1986' '1986' '1986' '1986' '1986' '1986' '1986'\n",
      " '1986' '1986' '1986' '1986' '1986' '1986' '1986' '1986' '1986' '1986'\n",
      " '1986' '1986' '1986' '1986' '1986' '1986' '1986' '1986' '1986' '1986'\n",
      " '1986' '1986' '1986' '1986' '1986' '1986' '1986' '1986' '1986' '1986'\n",
      " '1986' '1986' '1986' '1986' '1986' '1986' '1986' '1986' '1986' '1986'\n",
      " '1986' '1986' '1986' '1986' '1986' '1986' '1986' '1986' '1986' '1986'\n",
      " '1986' '1986' '1986' '1986' '1986' '1986' '1986' '1986' '1986' '1986'\n",
      " '1986' '1986' '1986' '1986' '1986' '1986' '1986' '1986' '1986' '1986'\n",
      " '1986' '1986' '1986' '1986' '1986' '1986' '1986' '1986' '1986' '1986'\n",
      " '1986' '1986' '1986' '1986' '1986' '1986' '1986' '1986' '1986' '1986'\n",
      " '1986' '1986' '1986' '1986' '1986' '1986' '1986' '1986' '1986' '1986'\n",
      " '1986' '1986' '1986' '1986' '1986' '1986' '1986' '1986' '1986' '1986'\n",
      " '1986' '1986' '1986' '1986' '1986' '1986' '1986' '1986' '1986' '1986'\n",
      " '1986' '1986' '1986' '1986' '1986' '1986' '1986' '1986' '1986' '1986'\n",
      " '1986' '1986' '1986' '1986' '1986' '1986' '1986' '1986' '1986' '1986'\n",
      " '1986']\n"
     ]
    }
   ],
   "source": [
    "print(world_alcohol2[:,0][world_alcohol2[:,0]=='1986'])"
   ]
  },
  {
   "cell_type": "code",
   "execution_count": 24,
   "metadata": {},
   "outputs": [
    {
     "name": "stdout",
     "output_type": "stream",
     "text": [
      "[['2018' 'Western Pacific' 'Viet Nam' 'Wine' '0']\n",
      " ['2018' 'Americas' 'Uruguay' 'Other' '0.5']\n",
      " ['1985' 'Africa' \"Cte d'Ivoire\" 'Wine' '1.62']\n",
      " ...\n",
      " ['2018' 'Europe' 'Switzerland' 'Spirits' '2.54']\n",
      " ['1987' 'Western Pacific' 'Papua New Guinea' 'Other' '0']\n",
      " ['2018' 'Africa' 'Swaziland' 'Other' '5.15']]\n"
     ]
    }
   ],
   "source": [
    "world_alcohol2[:,0][world_alcohol2[:,0]=='1986'] =\"2018\"\n",
    "print(world_alcohol2)"
   ]
  },
  {
   "cell_type": "code",
   "execution_count": 25,
   "metadata": {},
   "outputs": [
    {
     "name": "stdout",
     "output_type": "stream",
     "text": [
      "(816, 5)\n"
     ]
    }
   ],
   "source": [
    "print((world_alcohol2[world_alcohol2[:,3]=='Wine']).shape)"
   ]
  },
  {
   "cell_type": "code",
   "execution_count": 26,
   "metadata": {},
   "outputs": [
    {
     "name": "stdout",
     "output_type": "stream",
     "text": [
      "[['2018' 'Western Pacific' 'Viet Nam' 'Beer' '0']\n",
      " ['2018' 'Americas' 'Uruguay' 'Other' '0.5']\n",
      " ['1985' 'Africa' \"Cte d'Ivoire\" 'Beer' '1.62']\n",
      " ...\n",
      " ['2018' 'Europe' 'Switzerland' 'Spirits' '2.54']\n",
      " ['1987' 'Western Pacific' 'Papua New Guinea' 'Other' '0']\n",
      " ['2018' 'Africa' 'Swaziland' 'Other' '5.15']]\n"
     ]
    }
   ],
   "source": [
    "world_alcohol2[:,3][world_alcohol2[:,3]=='Wine'] =\"Beer\"\n",
    "print(world_alcohol2)"
   ]
  },
  {
   "cell_type": "code",
   "execution_count": 28,
   "metadata": {},
   "outputs": [
    {
     "name": "stdout",
     "output_type": "stream",
     "text": [
      "[False False False ... False False False]\n"
     ]
    }
   ],
   "source": [
    "is_value_empty=(world_alcohol[:,4]=='')\n",
    "print(is_value_empty)"
   ]
  },
  {
   "cell_type": "code",
   "execution_count": 29,
   "metadata": {},
   "outputs": [
    {
     "name": "stdout",
     "output_type": "stream",
     "text": [
      "[['1986' 'Western Pacific' 'Viet Nam' 'Wine' '0']\n",
      " ['1986' 'Americas' 'Uruguay' 'Other' '0.5']\n",
      " ['1985' 'Africa' \"Cte d'Ivoire\" 'Wine' '1.62']\n",
      " ...\n",
      " ['1986' 'Europe' 'Switzerland' 'Spirits' '2.54']\n",
      " ['1987' 'Western Pacific' 'Papua New Guinea' 'Other' '0']\n",
      " ['1986' 'Africa' 'Swaziland' 'Other' '5.15']]\n"
     ]
    }
   ],
   "source": [
    "world_alcohol[is_value_empty,4]='0'\n",
    "print(world_alcohol)"
   ]
  },
  {
   "cell_type": "code",
   "execution_count": 34,
   "metadata": {},
   "outputs": [
    {
     "name": "stdout",
     "output_type": "stream",
     "text": [
      "[0.   0.5  1.62 ... 2.54 0.   5.15]\n"
     ]
    }
   ],
   "source": [
    "acohol_consumption=world_alcohol[:,4]\n",
    "acohol_consumption=acohol_consumption.astype(float)\n",
    "print(acohol_consumption)"
   ]
  },
  {
   "cell_type": "code",
   "execution_count": 36,
   "metadata": {},
   "outputs": [
    {
     "name": "stdout",
     "output_type": "stream",
     "text": [
      "3908.96\n",
      "1.2001719373656738\n"
     ]
    }
   ],
   "source": [
    "total_alcohol = acohol_consumption.sum()\n",
    "average_alcohol =acohol_consumption.mean()\n",
    "print(total_alcohol)\n",
    "print(average_alcohol)"
   ]
  },
  {
   "cell_type": "code",
   "execution_count": 38,
   "metadata": {},
   "outputs": [
    {
     "name": "stdout",
     "output_type": "stream",
     "text": [
      "9.120000000000001\n",
      "2.2800000000000002\n"
     ]
    }
   ],
   "source": [
    "is_canada_and_1987 =(world_alcohol [:,0] ==\"1987\") & (world_alcohol [:,2] ==\"Canada\")\n",
    "print(acohol_consumption[is_canada_and_1987].sum())\n",
    "print(acohol_consumption[is_canada_and_1987].mean())"
   ]
  },
  {
   "cell_type": "code",
   "execution_count": 39,
   "metadata": {},
   "outputs": [
    {
     "name": "stdout",
     "output_type": "stream",
     "text": [
      "310.02\n",
      "2.0001290322580645\n"
     ]
    }
   ],
   "source": [
    "is_americas_and_beer =(world_alcohol [:,1] ==\"Americas\") & (world_alcohol [:,3] ==\"Beer\")\n",
    "print(acohol_consumption[is_americas_and_beer].sum())\n",
    "print(acohol_consumption[is_americas_and_beer].mean())"
   ]
  },
  {
   "cell_type": "code",
   "execution_count": null,
   "metadata": {},
   "outputs": [],
   "source": [
    "- Tout d'abord, on crée un dictionnaire vide qui va contenir tous les pays et leurs consommations d'alcool associées, on le nommera totals.\n",
    "- Sélectionner ensuite les lignes de world_alcohol correspondant à l'année donnée, disons 1989. Assigner le résultat à la variable year.\n",
    "- Sélectionner dans une liste qu'on nommera countries tous les pays.\n",
    "- Parcourir tous les pays de la liste à l'aide d'une boucle. Pour chaque pays:\n",
    ">- Sélectionner les lignes de year correpondant à ce pays\n",
    ">- Assigner le résultat à la variable country_consumption\n",
    ">- Extraire la 5e colonne de country_consumption\n",
    ">- Remplacer toute chaine de caractère vide dans cette colonne par 0\n",
    ">- Convertir la colonne en décimal (float)\n",
    ">- Calculer la somme de la colonne\n",
    ">- Ajouter la somme au dictionnaire totals, avec comme clé le nom du pays et en valeur cette somme.\n",
    "- Afficher le dictionnaire totals."
   ]
  },
  {
   "cell_type": "code",
   "execution_count": 73,
   "metadata": {},
   "outputs": [
    {
     "name": "stdout",
     "output_type": "stream",
     "text": [
      "{'Viet Nam': 0.16, 'Uruguay': 7.4399999999999995, \"Cte d'Ivoire\": 2.2, 'Colombia': 6.960000000000001, 'Saint Kitts and Nevis': 4.65, 'Guatemala': 2.47, 'Mauritius': 3.54, 'Angola': 2.28, 'Antigua and Barbuda': 4.69, 'Nigeria': 6.74, 'Botswana': 4.63, \"Lao People's Democratic Republic\": 5.95, 'Afghanistan': 0.0, 'Guinea-Bissau': 2.67, 'Costa Rica': 5.3999999999999995, 'Seychelles': 3.3000000000000003, 'Norway': 5.08, 'Kenya': 2.82, 'Myanmar': 0.16, 'Romania': 8.41, 'Turkey': 0.72, 'Comoros': 0.10999999999999999, 'Tunisia': 0.95, 'United Kingdom of Great Britain and Northern Ireland': 9.99, 'Bahrain': 4.89, 'Italy': 10.899999999999999, 'Sierra Leone': 4.380000000000001, 'Micronesia (Federated States of)': 0.0, 'Mauritania': 0.02, 'Russian Federation': 5.35, 'Egypt': 0.42000000000000004, 'Sweden': 7.47, 'Qatar': 1.4500000000000002, 'Burkina Faso': 3.99, 'Austria': 13.9, 'Czech Republic': 13.009999999999998, 'Ukraine': 5.32, 'China': 3.33, 'Lithuania': 0.0, 'Zimbabwe': 4.92, 'Trinidad and Tobago': 4.68, 'Mexico': 5.1, 'Nicaragua': 2.5, 'Malta': 7.13, 'Switzerland': 13.849999999999998, 'Finland': 9.419999999999998, 'Saudi Arabia': 0.15, 'Kuwait': 0.0, 'El Salvador': 1.77, 'Suriname': 3.67, 'Croatia': 10.92, 'Somalia': 0.0, 'Syrian Arab Republic': 0.54, 'Iran (Islamic Republic of)': 0.0, 'Papua New Guinea': 1.1099999999999999, 'Libya': 0.0, 'Bolivia (Plurinational State of)': 3.05, 'Iraq': 0.75, 'Namibia': 0.24, 'Uganda': 7.8, 'Togo': 2.2199999999999998, 'Madagascar': 1.38, 'Mali': 0.6699999999999999, 'Pakistan': 0.02, 'Cameroon': 6.359999999999999, 'Jamaica': 3.03, 'Malawi': 1.02, 'Netherlands': 10.030000000000001, 'Ireland': 11.79, 'Sri Lanka': 0.14, 'Democratic Republic of the Congo': 1.92, 'Bahamas': 12.290000000000001, 'Lebanon': 3.94, 'Bulgaria': 11.43, 'Eritrea': 0.29, 'Niger': 0.11, 'Luxembourg': 15.21, 'Indonesia': 0.07, 'Equatorial Guinea': 6.49, \"Democratic People's Republic of Korea\": 3.6799999999999997, 'Chile': 8.649999999999999, 'Central African Republic': 2.5199999999999996, 'Spain': 13.280000000000001, 'Gambia': 1.6300000000000001, 'Ghana': 1.8599999999999999, 'Brazil': 5.52, 'Portugal': 15.350000000000001, 'Burundi': 8.159999999999998, 'Belgium': 11.61, 'Paraguay': 6.51, 'Hungary': 16.29, 'Greece': 10.15, 'India': 1.66, 'Kyrgyzstan': 4.279999999999999, 'France': 16.05, 'Zambia': 3.37, 'Israel': 2.0300000000000002, 'Swaziland': 6.68, 'Canada': 9.0, 'Cambodia': 0.33, 'Cabo Verde': 2.79, 'United Arab Emirates': 4.43, 'Peru': 4.99, 'Solomon Islands': 0.5800000000000001, 'United Republic of Tanzania': 5.9, 'Chad': 0.30000000000000004, 'Cuba': 4.37, 'Guyana': 9.940000000000001, 'Mongolia': 2.59, 'Australia': 12.09, 'Sao Tome and Principe': 2.57, 'Slovenia': 12.969999999999999, 'Benin': 1.3800000000000001, 'Algeria': 0.4, 'Venezuela (Bolivarian Republic of)': 7.87, 'Ecuador': 2.54, 'Iceland': 5.359999999999999, 'Liberia': 5.61, 'Yemen': 0.2, 'Sudan': 0.15, 'Belarus': 7.9799999999999995, 'Cyprus': 9.29, 'United States of America': 9.16, 'Vanuatu': 1.74, 'Bangladesh': 0.0, 'Philippines': 3.78, 'Slovakia': 12.700000000000001, 'Poland': 9.33, 'Senegal': 0.6100000000000001, 'Honduras': 2.15, 'Bhutan': 0.31, 'Fiji': 1.9600000000000002, 'Belize': 0.0, 'Lesotho': 2.02, 'Singapore': 1.61, 'Guinea': 0.21, 'Brunei Darussalam': 2.7800000000000002, 'Congo': 3.1500000000000004, 'Thailand': 3.92, 'Djibouti': 0.87, 'Gabon': 9.34, 'Dominican Republic': 4.53, 'Morocco': 0.7, 'New Zealand': 11.52, 'Denmark': 11.649999999999999, 'Samoa': 2.63, 'Argentina': 10.82, 'Oman': 1.03, 'Kiribati': 0.48, 'Albania': 1.73, 'Nepal': 0.03, 'Malaysia': 0.68, 'Latvia': 7.039999999999999, 'Haiti': 5.81, 'South Africa': 9.21, 'Republic of Korea': 9.620000000000001, 'Japan': 7.74, 'Mozambique': 0.39, 'Ethiopia': 0.8600000000000001, 'Panama': 4.6000000000000005, 'Germany': 14.64, 'Saint Lucia': 11.62, 'Rwanda': 7.549999999999999, 'Jordan': 0.19}\n"
     ]
    }
   ],
   "source": [
    "totals={}\n",
    "year = world_alcohol[world_alcohol [:,0] ==\"1989\"]\n",
    "countries = world_alcohol [:,2]\n",
    "for country in countries:\n",
    "    country_consumption = year[year[:,2]==country]\n",
    "    consumption = country_consumption[:,4]\n",
    "    is_value_empty=(consumption=='')\n",
    "    country_consumption[is_value_empty,4]='0'\n",
    "    consumption=consumption.astype(float)\n",
    "    totals[country] = consumption.sum()\n",
    "print(totals)"
   ]
  },
  {
   "cell_type": "code",
   "execution_count": 78,
   "metadata": {},
   "outputs": [
    {
     "name": "stdout",
     "output_type": "stream",
     "text": [
      "16.29\n",
      "Hungary\n"
     ]
    }
   ],
   "source": [
    "highest_value=0\n",
    "highest_key=None\n",
    "for cle, valeur in totals.items():\n",
    "    if valeur >highest_value :\n",
    "        highest_value=valeur\n",
    "        highest_key=cle\n",
    "print (highest_value)\n",
    "print (highest_key)"
   ]
  },
  {
   "cell_type": "code",
   "execution_count": null,
   "metadata": {},
   "outputs": [],
   "source": [
    "def country_consumption(world, country=\"\", year=\"1989\"):\n",
    "    return world[:, 4][(world[:, 2] == country) & (world[:, 0] == year)].astype(float).sum()\n",
    "is_value_empty = world_alcohol[:, 4] == \"\"\n",
    "world_alcohol[:, 4][is_value_empty] = \"0\"\n",
    "countries = np.unique(world_alcohol_copy[:, 2])\n",
    "total_countries_consumption = { country: country_consumption(world_alcohol_copy, country) for country in countries }\n",
    "print(total_countries_consumption)"
   ]
  },
  {
   "cell_type": "code",
   "execution_count": 81,
   "metadata": {},
   "outputs": [
    {
     "name": "stdout",
     "output_type": "stream",
     "text": [
      "{'Viet Nam': 0.04, 'Uruguay': 1.8599999999999999, \"Cte d'Ivoire\": 0.55, 'Colombia': 1.7400000000000002, 'Saint Kitts and Nevis': 1.1625, 'Guatemala': 0.6175, 'Mauritius': 0.885, 'Angola': 0.57, 'Antigua and Barbuda': 1.1725, 'Nigeria': 1.685, 'Botswana': 1.1575, \"Lao People's Democratic Republic\": 1.4875, 'Afghanistan': 0.0, 'Guinea-Bissau': 0.6675, 'Costa Rica': 1.3499999999999999, 'Seychelles': 1.1, 'Norway': 1.27, 'Kenya': 0.705, 'Myanmar': 0.04, 'Romania': 2.1025, 'Turkey': 0.18, 'Comoros': 0.027499999999999997, 'Tunisia': 0.2375, 'United Kingdom of Great Britain and Northern Ireland': 2.4975, 'Bahrain': 1.2225, 'Italy': 2.7249999999999996, 'Sierra Leone': 1.0950000000000002, 'Micronesia (Federated States of)': 0.0, 'Mauritania': 0.005, 'Russian Federation': 1.3375, 'Egypt': 0.10500000000000001, 'Sweden': 1.8675, 'Qatar': 0.36250000000000004, 'Burkina Faso': 0.9975, 'Austria': 3.475, 'Czech Republic': 3.2524999999999995, 'Ukraine': 1.33, 'China': 0.8325, 'Lithuania': 0.0, 'Zimbabwe': 1.23, 'Trinidad and Tobago': 1.17, 'Mexico': 1.275, 'Nicaragua': 0.625, 'Malta': 1.7825, 'Switzerland': 3.4624999999999995, 'Finland': 2.3549999999999995, 'Saudi Arabia': 0.0375, 'Kuwait': 0.0, 'El Salvador': 0.4425, 'Suriname': 0.9175, 'Croatia': 2.73, 'Somalia': 0.0, 'Syrian Arab Republic': 0.135, 'Iran (Islamic Republic of)': 0.0, 'Papua New Guinea': 0.27749999999999997, 'Libya': 0.0, 'Bolivia (Plurinational State of)': 0.7625, 'Iraq': 0.1875, 'Namibia': 0.06, 'Uganda': 1.95, 'Togo': 0.5549999999999999, 'Madagascar': 0.345, 'Mali': 0.16749999999999998, 'Pakistan': 0.005, 'Cameroon': 1.5899999999999999, 'Jamaica': 0.7575, 'Malawi': 0.255, 'Netherlands': 2.5075000000000003, 'Ireland': 2.9475, 'Sri Lanka': 0.035, 'Democratic Republic of the Congo': 0.48, 'Bahamas': 3.0725000000000002, 'Lebanon': 0.985, 'Bulgaria': 2.8575, 'Eritrea': 0.0725, 'Niger': 0.0275, 'Luxembourg': 3.8025, 'Indonesia': 0.0175, 'Equatorial Guinea': 1.6225, \"Democratic People's Republic of Korea\": 0.9199999999999999, 'Chile': 2.1624999999999996, 'Central African Republic': 0.6299999999999999, 'Spain': 3.3200000000000003, 'Gambia': 0.40750000000000003, 'Ghana': 0.46499999999999997, 'Brazil': 1.38, 'Portugal': 3.8375000000000004, 'Burundi': 2.0399999999999996, 'Belgium': 2.9025, 'Paraguay': 1.6275, 'Hungary': 4.0725, 'Greece': 2.5375, 'India': 0.415, 'Kyrgyzstan': 1.0699999999999998, 'France': 4.0125, 'Zambia': 0.8425, 'Israel': 0.5075000000000001, 'Swaziland': 1.67, 'Canada': 2.25, 'Cambodia': 0.0825, 'Cabo Verde': 0.6975, 'United Arab Emirates': 1.1075, 'Peru': 1.2475, 'Solomon Islands': 0.14500000000000002, 'United Republic of Tanzania': 1.475, 'Chad': 0.07500000000000001, 'Cuba': 1.0925, 'Guyana': 2.4850000000000003, 'Mongolia': 0.6475, 'Australia': 3.0225, 'Sao Tome and Principe': 0.6425, 'Slovenia': 3.2424999999999997, 'Benin': 0.34500000000000003, 'Algeria': 0.1, 'Venezuela (Bolivarian Republic of)': 1.9675, 'Ecuador': 0.635, 'Iceland': 1.3399999999999999, 'Liberia': 1.4025, 'Yemen': 0.05, 'Sudan': 0.0375, 'Belarus': 1.9949999999999999, 'Cyprus': 2.3225, 'United States of America': 2.29, 'Vanuatu': 0.435, 'Bangladesh': 0.0, 'Philippines': 0.945, 'Slovakia': 3.1750000000000003, 'Poland': 2.3325, 'Senegal': 0.15250000000000002, 'Honduras': 0.5375, 'Bhutan': 0.0775, 'Fiji': 0.49000000000000005, 'Belize': 0.0, 'Lesotho': 0.505, 'Singapore': 0.4025, 'Guinea': 0.0525, 'Brunei Darussalam': 0.6950000000000001, 'Congo': 0.7875000000000001, 'Thailand': 0.98, 'Djibouti': 0.2175, 'Gabon': 2.335, 'Dominican Republic': 1.1325, 'Morocco': 0.175, 'New Zealand': 2.88, 'Denmark': 2.9124999999999996, 'Samoa': 0.6575, 'Argentina': 2.705, 'Oman': 0.2575, 'Kiribati': 0.12, 'Albania': 0.4325, 'Nepal': 0.0075, 'Malaysia': 0.17, 'Latvia': 1.7599999999999998, 'Haiti': 1.4525, 'South Africa': 2.3025, 'Republic of Korea': 2.4050000000000002, 'Japan': 1.935, 'Mozambique': 0.0975, 'Ethiopia': 0.21500000000000002, 'Panama': 1.1500000000000001, 'Germany': 3.66, 'Saint Lucia': 2.905, 'Rwanda': 1.8874999999999997, 'Jordan': 0.0475}\n"
     ]
    }
   ],
   "source": [
    "def country_mean(year):\n",
    "    totals={}\n",
    "    year = world_alcohol[world_alcohol [:,0] ==year]\n",
    "    countries = world_alcohol [:,2]\n",
    "    for country in countries:\n",
    "        country_consumption = year[year[:,2]==country]\n",
    "        consumption = country_consumption[:,4]\n",
    "        is_value_empty=(consumption=='')\n",
    "        country_consumption[is_value_empty,4]='0'\n",
    "        consumption=consumption.astype(float)\n",
    "        totals[country] = consumption.mean()\n",
    "    return (totals)\n",
    "print(country_mean(\"1989\"))"
   ]
  },
  {
   "cell_type": "code",
   "execution_count": null,
   "metadata": {},
   "outputs": [],
   "source": []
  }
 ],
 "metadata": {
  "kernelspec": {
   "display_name": "Python 3",
   "language": "python",
   "name": "python3"
  },
  "language_info": {
   "codemirror_mode": {
    "name": "ipython",
    "version": 3
   },
   "file_extension": ".py",
   "mimetype": "text/x-python",
   "name": "python",
   "nbconvert_exporter": "python",
   "pygments_lexer": "ipython3",
   "version": "3.8.5"
  }
 },
 "nbformat": 4,
 "nbformat_minor": 4
}
