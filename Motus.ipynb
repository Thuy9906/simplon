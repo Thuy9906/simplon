{
 "cells": [
  {
   "cell_type": "markdown",
   "metadata": {},
   "source": [
    "Le jeu du pendu consiste à trouver un mot en devinant les lettres qui le composent. Nous\n",
    "vous proposons de mettre en place une version simplifiée, mais relativement complète.\n",
    "Pour rendre le code plus simple, vous ne traiterez que des mots avec des lettres\n",
    "différentes. Cela permet d’éviter la gestion des doublons.\n",
    "Voici vos objectifs :\n",
    "    Au démarrage du jeu, affichez : \"Jeu du pendu !!\".\n",
    "    Demandez au joueur d’entrer une lettre suivie d’un appui sur la touche [Entrée].\n",
    "    L’utilisateur doit faire six propositions de lettre, ni plus, ni moins.\n",
    "    Si la lettre n’est pas présente dans le mot, affichez \"#˽# ... #˽#\" avec autant de\n",
    "    symboles # que de lettres à deviner.\n",
    "    Si la lettre est présente dans le mot, il faut indiquer sa position. Par exemple, s’il\n",
    "    s’agit de la \"X\" à la troisième position en partant de la gauche pour un mot de six\n",
    "    lettres, l’affichage sera \"#˽#˽X˽#˽#˽#\".\n",
    "    Une fois les six essais effectués, demandez au joueur de proposer un mot.\n",
    "    Comparez la proposition du joueur avec le mot recherché. S’il a trouvé, écrivez\n",
    "    \"GAGNE\", sinon \"PERDU\".\n",
    "Voici quelques conseils :\n",
    "    Transformez le caractère en caractère majuscule pour que votre recherche\n",
    "    fonctionne.\n",
    "    Si la lettre n’est pas trouvée, pour éviter une boucle for, vous pouvez utiliser une\n",
    "    syntaxe permettant de répéter n fois une chaîne comme : \"#˽\" * n.\n",
    "    Si la lettre est trouvée, calculez le nombre de fois où la séquence \"#˽\" est présente à\n",
    "    gauche et à droite de la lettre trouvée. Connaissant la longueur du mot et la\n",
    "    position de la lettre, vous pouvez par un calcul trouver ces deux valeurs. Utilisez\n",
    "    ensuite l’astuce du \"#˽\" * k pour répéter plusieurs fois l’écriture de la chaîne \"# \"\n",
    "    sans utiliser de boucle for. Pour éviter un retour à la ligne suite à l’appel de la\n",
    "    fonction print(), utilisez son paramètre optionnel : end=\"\".\n",
    "    Nous vous conseillons de transformer la réponse de l’utilisateur en majuscules.\n",
    "    Utilisez l’opérateur == pour comparer deux chaînes"
   ]
  },
  {
   "cell_type": "code",
   "execution_count": 9,
   "metadata": {},
   "outputs": [
    {
     "name": "stdout",
     "output_type": "stream",
     "text": [
      "Jeu du pendu !!\n",
      "Entrez une lettre\n",
      "s\n",
      " S # # # # # \n",
      "Entrez une lettre\n",
      "e\n",
      "#  E # # # # \n",
      "Entrez une lettre\n",
      "n\n",
      "# #  N # # # \n",
      "Entrez une lettre\n",
      "t\n",
      "# # #  T # # \n",
      "Entrez une lettre\n",
      "r\n",
      "# # # # #  R \n",
      "Proposez un mot\n",
      "santir\n",
      "PERDU\n"
     ]
    }
   ],
   "source": [
    "def pendu():\n",
    "    print (\"Jeu du pendu !!\")\n",
    "    motADeviner = \"SENTIR\"\n",
    "    for i in range(5):\n",
    "        print(\"Entrez une lettre\")\n",
    "        reponse = input().upper()\n",
    "        if reponse not in motADeviner:\n",
    "            print(\"# \" * 6)\n",
    "        else :\n",
    "            print(\"# \" * (motADeviner.find(reponse)), reponse, \"# \" * (5-motADeviner.find(reponse)))\n",
    "    print(\"Proposez un mot\")\n",
    "    motPropose=input().upper()\n",
    "    if motADeviner==motPropose:\n",
    "        print(\"GAGNE\")\n",
    "    else :\n",
    "        print (\"PERDU\")\n",
    "pendu()"
   ]
  },
  {
   "cell_type": "code",
   "execution_count": null,
   "metadata": {},
   "outputs": [],
   "source": [
    "mot = \"SENTIR\"\n",
    "cpt = 0\n",
    "while 0<3 :\n",
    "    indice = ''\n",
    "    reponse = input().upper()\n",
    "    if len(reponse)!=6 :\n",
    "        print ('entrez un mot à 6 lettre ! Vous avez 3 essais')\n",
    "    elif reponse ==mot :\n",
    "        print ('bravo, vous avez trouvé le mot', mot)\n",
    "        break\n",
    "    else :\n",
    "        cpt += 1\n",
    "        for i in range (6) :\n",
    "            if reponse[i] == mot[i] :\n",
    "                indice += mot[i]+ '# '\n",
    "            elif reponse[i] in mot :\n",
    "                indice += reponse[i]+ '? '\n",
    "            else :\n",
    "                indice += reponse[i].lower()+ ' '\n",
    "        print (indice)\n",
    "        if cpt ==3 and reponse != mot :\n",
    "            print ('vous avez perdu')"
   ]
  },
  {
   "cell_type": "code",
   "execution_count": 29,
   "metadata": {},
   "outputs": [
    {
     "name": "stdout",
     "output_type": "stream",
     "text": [
      "--- DEPART ----\n",
      "Comment s’est passée votre journée ?\n",
      "bien\n",
      "J’entends bien.\n"
     ]
    }
   ],
   "source": [
    "from random import randint\n",
    "def genPhrase(list):\n",
    "    gene = randint(0, len(list)-1)\n",
    "    return list[gene]\n",
    "\n",
    "phrase_demarre=[\"Comment allez-vous ?\", \"Pourquoi venez-vous me voir ?\", \"Comment s’est passée votre journée ?\"]\n",
    "phrase_relation=[\"Comment va votre {0} ?\", \"La relation avec {0} vous pose-t-elle problème ?\", \"Pourquoi pensez-vous en ce moment à votre {0} ?\"]\n",
    "phrase_interrogation=[\"Pourquoi me posez-vous cette question  ?\", \"Oseriez-vous poser cette question à un humain ?\",\"Je ne peux malheureusement pas répondre à cette question.\"]\n",
    "phrase_contraire=[\"J’entends bien.\", \"Je sens une pointe de regret.\", \"Est-ce une bonne nouvelle ?\", \"Oui, c’est ça le problème.\",\"Pensez-vous ce que vous dites ?\",\"Hum... Il se peut.\"]\n",
    "relation=[\"pere\", \"mere\", \"copain\", \"copine\", \"maman\", \"papa\", \"ami\", \"amie\"]\n",
    "\n",
    "print(\"--- DEPART ----\")\n",
    "robot_dit = genPhrase(phrase_demarre)\n",
    "print(robot_dit)\n",
    "reponse=input().lower()\n",
    "ls_repond = reponse.split(\" \")\n",
    "concerne_relation = False\n",
    "for i in relation :\n",
    "    if i in reponse :\n",
    "        robot_dit = genPhrase(phrase_relation)\n",
    "        robot_dit = robot_dit.replace ('{0}', i)\n",
    "        concerne_relation = True\n",
    "        break\n",
    "if concerne_relation == False :\n",
    "    if \"?\" in reponse:\n",
    "        robot_dit = genPhrase(phrase_interrogation)\n",
    "    else :\n",
    "        robot_dit = genPhrase(phrase_contraire)\n",
    "print (robot_dit)"
   ]
  },
  {
   "cell_type": "code",
   "execution_count": null,
   "metadata": {},
   "outputs": [],
   "source": []
  }
 ],
 "metadata": {
  "kernelspec": {
   "display_name": "Python 3",
   "language": "python",
   "name": "python3"
  },
  "language_info": {
   "codemirror_mode": {
    "name": "ipython",
    "version": 3
   },
   "file_extension": ".py",
   "mimetype": "text/x-python",
   "name": "python",
   "nbconvert_exporter": "python",
   "pygments_lexer": "ipython3",
   "version": "3.8.5"
  }
 },
 "nbformat": 4,
 "nbformat_minor": 4
}
